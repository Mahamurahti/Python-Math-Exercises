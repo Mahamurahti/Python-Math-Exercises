{
 "cells": [
  {
   "cell_type": "code",
   "execution_count": 37,
   "id": "c54a180a-3ad6-4b20-a088-a89e69da9676",
   "metadata": {},
   "outputs": [],
   "source": [
    "import numpy as np\n",
    "from matplotlib import pyplot as plt"
   ]
  },
  {
   "cell_type": "markdown",
   "id": "a8c43047-f3e7-42ec-ae78-82844aaa20ed",
   "metadata": {},
   "source": [
    "# Exercise 1\n",
    "Calculate."
   ]
  },
  {
   "cell_type": "code",
   "execution_count": 18,
   "id": "20108070-c53a-4d68-bc6c-63cb33000296",
   "metadata": {},
   "outputs": [
    {
     "name": "stdout",
     "output_type": "stream",
     "text": [
      "[[27]]\n"
     ]
    }
   ],
   "source": [
    "# a)\n",
    "# Matrix of type 1x2\n",
    "x = np.array([\n",
    "    [3,6]\n",
    "])\n",
    "# Matrix of type 2x1\n",
    "y = np.array([\n",
    "    [5],\n",
    "    [2]\n",
    "])\n",
    "# Since matrices are 1x2 - 2x1, result is defined of type 1x1\n",
    "print (np.dot(x,y))"
   ]
  },
  {
   "cell_type": "code",
   "execution_count": 19,
   "id": "d236d4c0-8260-4ab9-a65e-63c36a0aebd0",
   "metadata": {},
   "outputs": [
    {
     "name": "stdout",
     "output_type": "stream",
     "text": [
      "[[15 30]\n",
      " [ 6 12]]\n"
     ]
    }
   ],
   "source": [
    "# b)\n",
    "# Matrix of type 2x1\n",
    "x = np.array([\n",
    "    [5],\n",
    "    [2]\n",
    "])\n",
    "# Matrix of type 1x2\n",
    "y = np.array([\n",
    "    [3,6]\n",
    "])\n",
    "# Since matrices are 2x1 - 1x2, result is defined of type 2x2\n",
    "print (np.dot(x,y))"
   ]
  },
  {
   "cell_type": "code",
   "execution_count": 20,
   "id": "318b1de9-f142-4ea5-bc7c-aa1c1259c002",
   "metadata": {},
   "outputs": [
    {
     "ename": "ValueError",
     "evalue": "shapes (2,1) and (2,1) not aligned: 1 (dim 1) != 2 (dim 0)",
     "output_type": "error",
     "traceback": [
      "\u001b[1;31m---------------------------------------------------------------------------\u001b[0m",
      "\u001b[1;31mValueError\u001b[0m                                Traceback (most recent call last)",
      "\u001b[1;32mC:\\WINDOWS\\TEMP/ipykernel_13056/4215166578.py\u001b[0m in \u001b[0;36m<module>\u001b[1;34m\u001b[0m\n\u001b[0;32m     11\u001b[0m ])\n\u001b[0;32m     12\u001b[0m \u001b[1;31m# Since matrices are 2x1 - 2x1, result is not defined\u001b[0m\u001b[1;33m\u001b[0m\u001b[1;33m\u001b[0m\u001b[0m\n\u001b[1;32m---> 13\u001b[1;33m \u001b[0mprint\u001b[0m \u001b[1;33m(\u001b[0m\u001b[0mnp\u001b[0m\u001b[1;33m.\u001b[0m\u001b[0mdot\u001b[0m\u001b[1;33m(\u001b[0m\u001b[0mx\u001b[0m\u001b[1;33m,\u001b[0m\u001b[0my\u001b[0m\u001b[1;33m)\u001b[0m\u001b[1;33m)\u001b[0m\u001b[1;33m\u001b[0m\u001b[1;33m\u001b[0m\u001b[0m\n\u001b[0m",
      "\u001b[1;32m<__array_function__ internals>\u001b[0m in \u001b[0;36mdot\u001b[1;34m(*args, **kwargs)\u001b[0m\n",
      "\u001b[1;31mValueError\u001b[0m: shapes (2,1) and (2,1) not aligned: 1 (dim 1) != 2 (dim 0)"
     ]
    }
   ],
   "source": [
    "# c)\n",
    "# Matrix of type 2x1\n",
    "x = np.array([\n",
    "    [5],\n",
    "    [2]\n",
    "])\n",
    "# Matrix of type 2x1\n",
    "y = np.array([\n",
    "    [3],\n",
    "    [6]\n",
    "])\n",
    "# Since matrices are 2x1 - 2x1, result is not defined\n",
    "print (np.dot(x,y))"
   ]
  },
  {
   "cell_type": "code",
   "execution_count": 21,
   "id": "be11ab61-ff12-4638-8a3f-61c40d9b38fb",
   "metadata": {},
   "outputs": [
    {
     "name": "stdout",
     "output_type": "stream",
     "text": [
      "[[16]\n",
      " [42]]\n"
     ]
    }
   ],
   "source": [
    "# d)\n",
    "# Matrix of type 2x2\n",
    "x = np.array([\n",
    "    [1, 2],\n",
    "    [3, 5]\n",
    "])\n",
    "# Matrix of type 2x1\n",
    "y = np.array([\n",
    "    [4],\n",
    "    [6]\n",
    "])\n",
    "# Since matrices are 2x2 - 2x1, result is defined of type 2x1\n",
    "print (np.dot(x,y))"
   ]
  },
  {
   "cell_type": "code",
   "execution_count": 22,
   "id": "5fd34802-484f-41ab-ab07-c2ddc5171e53",
   "metadata": {},
   "outputs": [
    {
     "name": "stdout",
     "output_type": "stream",
     "text": [
      "[[22 38]]\n"
     ]
    }
   ],
   "source": [
    "# e)\n",
    "# Matrix of type 1x2\n",
    "x = np.array([\n",
    "    [4, 6]\n",
    "])\n",
    "# Matrix of type 2x2\n",
    "y = np.array([\n",
    "    [1, 2],\n",
    "    [3, 5]\n",
    "])\n",
    "# Since matrices are 1x2 - 2x2, result is defined of type 1x2\n",
    "print (np.dot(x,y))"
   ]
  },
  {
   "cell_type": "code",
   "execution_count": 169,
   "id": "80ab9521-5882-4941-8710-319dfff26a8d",
   "metadata": {},
   "outputs": [
    {
     "name": "stdout",
     "output_type": "stream",
     "text": [
      "[[316]]\n"
     ]
    }
   ],
   "source": [
    "# f)\n",
    "# Matrix of type 2x1\n",
    "x = np.array([\n",
    "    [4],\n",
    "    [6]\n",
    "])\n",
    "# Matrix of type 2x2\n",
    "y = np.array([\n",
    "    [1, 2],\n",
    "    [3, 5]\n",
    "])\n",
    "# Transpose matrix of Matrix x (1x2)\n",
    "z = x.T\n",
    "# Since matrices are 1x2 - 2x2 - 2x1, result is defined of type 1x1\n",
    "print (np.dot(np.dot(z,y),x))"
   ]
  },
  {
   "cell_type": "markdown",
   "id": "550ee343-cf68-47f8-bd82-2717bb768b63",
   "metadata": {},
   "source": [
    "# Exercise 2\n",
    "\n",
    "Calculate."
   ]
  },
  {
   "cell_type": "code",
   "execution_count": 165,
   "id": "e99715a7-1cd0-4613-8b5c-717d9be3e6ca",
   "metadata": {},
   "outputs": [],
   "source": [
    "# Matrix of type 3x2\n",
    "x = np.array([\n",
    "    [1, 0],\n",
    "    [0, 2],\n",
    "    [3, 0]\n",
    "])\n",
    "# Matrix of type 3x2\n",
    "y = np.array([\n",
    "    [0, 4],\n",
    "    [0, 5],\n",
    "    [6, 0]\n",
    "])"
   ]
  },
  {
   "cell_type": "code",
   "execution_count": 166,
   "id": "8fdf62d9-a2fc-40c2-8f89-b2f1c63ce8ba",
   "metadata": {},
   "outputs": [
    {
     "ename": "ValueError",
     "evalue": "shapes (3,2) and (3,2) not aligned: 2 (dim 1) != 3 (dim 0)",
     "output_type": "error",
     "traceback": [
      "\u001b[1;31m---------------------------------------------------------------------------\u001b[0m",
      "\u001b[1;31mValueError\u001b[0m                                Traceback (most recent call last)",
      "\u001b[1;32mC:\\WINDOWS\\TEMP/ipykernel_13056/1534791918.py\u001b[0m in \u001b[0;36m<module>\u001b[1;34m\u001b[0m\n\u001b[0;32m      1\u001b[0m \u001b[1;31m# a)\u001b[0m\u001b[1;33m\u001b[0m\u001b[1;33m\u001b[0m\u001b[0m\n\u001b[0;32m      2\u001b[0m \u001b[1;31m# Since matrices are 3x2 - 3x2, result is not defined\u001b[0m\u001b[1;33m\u001b[0m\u001b[1;33m\u001b[0m\u001b[0m\n\u001b[1;32m----> 3\u001b[1;33m \u001b[0mprint\u001b[0m \u001b[1;33m(\u001b[0m\u001b[0mnp\u001b[0m\u001b[1;33m.\u001b[0m\u001b[0mdot\u001b[0m\u001b[1;33m(\u001b[0m\u001b[0mx\u001b[0m\u001b[1;33m,\u001b[0m\u001b[0my\u001b[0m\u001b[1;33m)\u001b[0m\u001b[1;33m)\u001b[0m\u001b[1;33m\u001b[0m\u001b[1;33m\u001b[0m\u001b[0m\n\u001b[0m",
      "\u001b[1;32m<__array_function__ internals>\u001b[0m in \u001b[0;36mdot\u001b[1;34m(*args, **kwargs)\u001b[0m\n",
      "\u001b[1;31mValueError\u001b[0m: shapes (3,2) and (3,2) not aligned: 2 (dim 1) != 3 (dim 0)"
     ]
    }
   ],
   "source": [
    "# a)\n",
    "# Since matrices are 3x2 - 3x2, result is not defined\n",
    "print (np.dot(x,y))"
   ]
  },
  {
   "cell_type": "code",
   "execution_count": 29,
   "id": "6e0364de-1311-4ef8-b060-346b2cf16a76",
   "metadata": {},
   "outputs": [
    {
     "name": "stdout",
     "output_type": "stream",
     "text": [
      "[[ 0  0]\n",
      " [ 0 10]\n",
      " [18  0]]\n"
     ]
    }
   ],
   "source": [
    "# b)\n",
    "# Since matrices are 3x2 - 3x2, result is defined of type 3x2\n",
    "print (np.multiply(x,y))"
   ]
  },
  {
   "cell_type": "code",
   "execution_count": 32,
   "id": "f72d4629-3895-4688-ac9a-f15da8aa65d6",
   "metadata": {},
   "outputs": [
    {
     "name": "stdout",
     "output_type": "stream",
     "text": [
      "[[18  4]\n",
      " [ 0 10]]\n"
     ]
    }
   ],
   "source": [
    "# c)\n",
    "# Since matrices are 2x3 - 3x2, result is defined of type 2x2\n",
    "print (np.dot(x.T,y))"
   ]
  },
  {
   "cell_type": "code",
   "execution_count": 33,
   "id": "a06eeb29-c981-4e62-81bf-cb34b6215552",
   "metadata": {},
   "outputs": [
    {
     "name": "stdout",
     "output_type": "stream",
     "text": [
      "[[ 0  0  6]\n",
      " [ 8 10  0]\n",
      " [ 0  0 18]]\n"
     ]
    }
   ],
   "source": [
    "# d)\n",
    "# Since matrices are 3x2 - 2x3, result is defined of type 3x3\n",
    "print (np.dot(x,y.T))"
   ]
  },
  {
   "cell_type": "code",
   "execution_count": 34,
   "id": "1c45182b-a8b9-4be3-8dd1-cfee1209c620",
   "metadata": {},
   "outputs": [
    {
     "name": "stdout",
     "output_type": "stream",
     "text": [
      "[[10  0]\n",
      " [ 0 20]\n",
      " [30  0]]\n"
     ]
    }
   ],
   "source": [
    "# e)\n",
    "# Scalar multiplication\n",
    "print (10 * x)"
   ]
  },
  {
   "cell_type": "code",
   "execution_count": 35,
   "id": "bf4e8dc7-0553-4856-aa9c-0c67d2149601",
   "metadata": {},
   "outputs": [
    {
     "name": "stdout",
     "output_type": "stream",
     "text": [
      "[[11 10]\n",
      " [10 12]\n",
      " [13 10]]\n"
     ]
    }
   ],
   "source": [
    "# f)\n",
    "# Scalar sum\n",
    "print (10 + x)"
   ]
  },
  {
   "cell_type": "markdown",
   "id": "06aa5795-c0cb-4f59-a271-f150b8800b42",
   "metadata": {},
   "source": [
    "# Exercise 3\n",
    "\n",
    "Plot the function."
   ]
  },
  {
   "cell_type": "code",
   "execution_count": 163,
   "id": "bbd4ada5-2be6-47df-9e65-9eec2ff2287f",
   "metadata": {},
   "outputs": [
    {
     "data": {
      "image/png": "[encoded data removed]",
      "text/plain": [
       "<Figure size 432x288 with 1 Axes>"
      ]
     },
     "metadata": {
      "needs_background": "light"
     },
     "output_type": "display_data"
    }
   ],
   "source": [
    "# Range\n",
    "x = np.arange(-2,2) \n",
    "# Function\n",
    "y = 1 / (1 + np.exp(x))\n",
    "\n",
    "plt.plot(x,y) \n",
    "plt.show()"
   ]
  },
  {
   "cell_type": "markdown",
   "id": "2862ce4a-e839-4e2d-ab5c-f11614824b44",
   "metadata": {},
   "source": [
    "# Exercise 4\n",
    "\n",
    "Plot the function."
   ]
  },
  {
   "cell_type": "code",
   "execution_count": 164,
   "id": "02209bbb-4dbc-46ad-8185-1f6341c5b9fd",
   "metadata": {},
   "outputs": [
    {
     "data": {
      "image/png": "[encoded data removed]",
      "text/plain": [
       "<Figure size 432x288 with 1 Axes>"
      ]
     },
     "metadata": {
      "needs_background": "light"
     },
     "output_type": "display_data"
    }
   ],
   "source": [
    "# Range\n",
    "x = np.arange(0,5) \n",
    "# Function\n",
    "numerator = x**3 + np.abs(x) + np.log(x + 10**-8)\n",
    "denominator = np.sqrt(100 + x) + 0.01 * x * np.exp(x)\n",
    "y = numerator / denominator\n",
    "\n",
    "plt.plot(x,y) \n",
    "plt.show()"
   ]
  },
  {
   "cell_type": "markdown",
   "id": "0ff4c4c2-ce1c-4603-aee7-ca38c6f65812",
   "metadata": {},
   "source": [
    "# Exercise 5\n",
    "\n",
    "Write the equations."
   ]
  },
  {
   "cell_type": "code",
   "execution_count": 155,
   "id": "505b88cd-265e-4c02-805c-21341b71d6a2",
   "metadata": {},
   "outputs": [
    {
     "name": "stdout",
     "output_type": "stream",
     "text": [
      "[[2.]\n",
      " [3.]\n",
      " [1.]]\n"
     ]
    }
   ],
   "source": [
    "# x + 2y + 4z = 12\n",
    "# -3x + y + 5z = 2\n",
    "# 2x - 4y + z = -7\n",
    "\n",
    "# Multipliers from left side of equations\n",
    "A = np.array([\n",
    "    [1, 2, 4],\n",
    "    [-3, 1, 5],\n",
    "    [2, -4, 1]\n",
    "])\n",
    "\n",
    "# Resulting Matrix 3x1\n",
    "X = [\n",
    "    [x],\n",
    "    [y],\n",
    "    [z]\n",
    "]\n",
    "\n",
    "# Answers from right side of equations\n",
    "B = np.array([\n",
    "    [12],\n",
    "    [2],\n",
    "    [-7]\n",
    "])\n",
    "\n",
    "# AX = B => X = B/A => X = (A**-1)B\n",
    "X = np.linalg.inv(A).dot(B)\n",
    "print (X)"
   ]
  },
  {
   "cell_type": "markdown",
   "id": "442fe5fb-126f-4b0a-bd01-84575205092b",
   "metadata": {},
   "source": [
    "# Exercise 6\n",
    "\n",
    "Choose elements, rows and columns from Matrix A."
   ]
  },
  {
   "cell_type": "code",
   "execution_count": 154,
   "id": "7e38aacf-7868-45bd-97f8-d2c3403fe92f",
   "metadata": {},
   "outputs": [],
   "source": [
    "A = np.array([\n",
    "    [2, 5, -1, 3, 6],\n",
    "    [1, 0, 0, -2, 0],\n",
    "    [4, 1, -2, 0, 7],\n",
    "    [0, 3, 5, 1, -1]\n",
    "])"
   ]
  },
  {
   "cell_type": "code",
   "execution_count": 66,
   "id": "efbcbe43-11e9-4d80-9a73-acd31311777a",
   "metadata": {},
   "outputs": [
    {
     "name": "stdout",
     "output_type": "stream",
     "text": [
      "2 -2 1\n"
     ]
    }
   ],
   "source": [
    "# a)\n",
    "# In Python array indexes start from 0, not 1\n",
    "#        row         column\n",
    "# A[start : end , start : end]\n",
    "print (A[0][0], A[1][3], A[3][3])"
   ]
  },
  {
   "cell_type": "code",
   "execution_count": 67,
   "id": "169e84be-1e9c-40d4-93fe-541abfcdd511",
   "metadata": {},
   "outputs": [
    {
     "name": "stdout",
     "output_type": "stream",
     "text": [
      "[ 4  1 -2  0  7]\n"
     ]
    }
   ],
   "source": [
    "# b)\n",
    "print (A[2])"
   ]
  },
  {
   "cell_type": "code",
   "execution_count": 68,
   "id": "4bfbadfd-e6d7-4526-a714-f8bd293b98c6",
   "metadata": {},
   "outputs": [
    {
     "name": "stdout",
     "output_type": "stream",
     "text": [
      "[[ 2  5 -1]\n",
      " [ 1  0  0]\n",
      " [ 4  1 -2]\n",
      " [ 0  3  5]]\n"
     ]
    }
   ],
   "source": [
    "# c)\n",
    "print (A[:,0:3])"
   ]
  },
  {
   "cell_type": "markdown",
   "id": "3c8da4f1-cff1-4692-a758-2c1db9bce5ec",
   "metadata": {},
   "source": [
    "# Exercise 7\n",
    "\n",
    "Concatenate and reshape matrices from Exercise 2."
   ]
  },
  {
   "cell_type": "code",
   "execution_count": 153,
   "id": "963b97c0-fb78-4f4c-9f6d-81b9eb96fcd5",
   "metadata": {},
   "outputs": [
    {
     "name": "stdout",
     "output_type": "stream",
     "text": [
      "[[1]\n",
      " [0]\n",
      " [0]\n",
      " [4]\n",
      " [0]\n",
      " [2]\n",
      " [0]\n",
      " [5]\n",
      " [3]\n",
      " [0]\n",
      " [6]\n",
      " [0]]\n",
      "[[1 0]\n",
      " [0 2]\n",
      " [3 0]\n",
      " [0 4]\n",
      " [0 5]\n",
      " [6 0]]\n"
     ]
    }
   ],
   "source": [
    "A = np.array([\n",
    "    [1, 0],\n",
    "    [0, 2],\n",
    "    [3, 0]\n",
    "])\n",
    "\n",
    "B = np.array([\n",
    "    [0, 4],\n",
    "    [0, 5],\n",
    "    [6, 0]\n",
    "])\n",
    "\n",
    "# We can use np.concatenate, but hstack or vstack\n",
    "# do the stacking automatically\n",
    "\n",
    "# Horizontally stack and reshape into column vector nx1\n",
    "C = np.hstack((A, B)).reshape(12,1)\n",
    "print (C)\n",
    "\n",
    "# Vertically stack\n",
    "D = np.vstack((A, B))\n",
    "\n",
    "print (D)"
   ]
  },
  {
   "cell_type": "code",
   "execution_count": null,
   "id": "75df27c0-229b-40b9-90cd-05b361d2ea02",
   "metadata": {},
   "outputs": [],
   "source": []
  }
 ],
 "metadata": {
  "kernelspec": {
   "display_name": "Python 3 (ipykernel)",
   "language": "python",
   "name": "python3"
  },
  "language_info": {
   "codemirror_mode": {
    "name": "ipython",
    "version": 3
   },
   "file_extension": ".py",
   "mimetype": "text/x-python",
   "name": "python",
   "nbconvert_exporter": "python",
   "pygments_lexer": "ipython3",
   "version": "3.9.7"
  }
 },
 "nbformat": 4,
 "nbformat_minor": 5
}
