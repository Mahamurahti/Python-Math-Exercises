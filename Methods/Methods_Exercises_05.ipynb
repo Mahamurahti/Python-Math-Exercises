{
 "cells": [
  {
   "cell_type": "code",
   "execution_count": 1,
   "id": "862f26de-a526-436c-9385-3a940e444669",
   "metadata": {},
   "outputs": [
    {
     "name": "stdout",
     "output_type": "stream",
     "text": [
      "Populating the interactive namespace from numpy and matplotlib\n"
     ]
    }
   ],
   "source": [
    "%pylab inline\n",
    "import pandas as pd\n",
    "import seaborn as sns\n",
    "\n",
    "from sklearn import linear_model\n",
    "from sklearn.preprocessing import StandardScaler\n",
    "from sklearn.model_selection import cross_val_score\n",
    "\n",
    "# Set the size of plots to a large size\n",
    "plt.rcParams[\"figure.figsize\"] = (20,1)"
   ]
  },
  {
   "cell_type": "markdown",
   "id": "7374917c-0a92-4784-95b8-b7317761116c",
   "metadata": {
    "tags": []
   },
   "source": [
    "# Logistic Regression\n",
    "\n",
    "> Contributors: Eric Keränen, Samuel Aitamaa & Teemu Luhtanen\n",
    "\n",
    "The goal of this assignment is to make a diagnostic tool (not for real medical use) that asks a medical expert six\n",
    "numerical quantities obtained by radiographic measurements of a patient. \n",
    "As an output, your program should provide a probability estimate of the patient having a\n",
    "vertebral abnormality (either disk hernia or spondylolisthesis). Alternatively, your tool can not\n",
    "only indicate abnormality but also specify which of the two conditions an affected individual is\n",
    "likely to have.\n",
    "\n",
    "## Part I - Input\n",
    "\n",
    "Hello, medical expert! Here you can input six different numerical quantities to determine if an individual has a vertebral abnormality. Remember to give the inputs as whole numbers or decimal point numbers, no strings allowed!  \n",
    "Go ahead, try it:"
   ]
  },
  {
   "cell_type": "code",
   "execution_count": 2,
   "id": "bb473a55-8fdc-4e00-953b-58065444b61e",
   "metadata": {},
   "outputs": [
    {
     "name": "stdin",
     "output_type": "stream",
     "text": [
      "Enter pelvic incidence:  60.12\n",
      "Enter pelvic tilt:  30.87\n",
      "Enter lumbar lordosis angle:  50.01\n",
      "Enter sacral slope:  40.69\n",
      "Enter pelvic radius:  120.55\n",
      "Enter grade of spondylolisthesis:  40.02\n"
     ]
    }
   ],
   "source": [
    "questions = ['pelvic incidence', 'pelvic tilt', 'lumbar lordosis angle', 'sacral slope', 'pelvic radius', 'grade of spondylolisthesis']\n",
    "answers = {}\n",
    "\n",
    "for question in questions:\n",
    "    answers[question] = float(input(f\"Enter {question}: \"))\n",
    "\n",
    "answers = pd.DataFrame(answers, index=[0])"
   ]
  },
  {
   "cell_type": "markdown",
   "id": "452872ec-c154-442f-a527-2790269615fd",
   "metadata": {},
   "source": [
    "Once you have inputted the numerical values, you can scroll to the end of the notebook to **Part IV** to find out what exciting diagnose you've discovered!"
   ]
  },
  {
   "cell_type": "markdown",
   "id": "14b0f19c-2ef0-4ce8-b394-dba44ca4687e",
   "metadata": {},
   "source": [
    "## Part II - Preprocess and computing"
   ]
  },
  {
   "cell_type": "code",
   "execution_count": 3,
   "id": "c1766601-c7d5-47bb-a8ac-2fc9f833bb60",
   "metadata": {},
   "outputs": [
    {
     "data": {
      "text/html": [
       "<div>\n",
       "<style scoped>\n",
       "    .dataframe tbody tr th:only-of-type {\n",
       "        vertical-align: middle;\n",
       "    }\n",
       "\n",
       "    .dataframe tbody tr th {\n",
       "        vertical-align: top;\n",
       "    }\n",
       "\n",
       "    .dataframe thead th {\n",
       "        text-align: right;\n",
       "    }\n",
       "</style>\n",
       "<table border=\"1\" class=\"dataframe\">\n",
       "  <thead>\n",
       "    <tr style=\"text-align: right;\">\n",
       "      <th></th>\n",
       "      <th>count</th>\n",
       "      <th>mean</th>\n",
       "      <th>std</th>\n",
       "      <th>min</th>\n",
       "      <th>25%</th>\n",
       "      <th>50%</th>\n",
       "      <th>75%</th>\n",
       "      <th>max</th>\n",
       "    </tr>\n",
       "  </thead>\n",
       "  <tbody>\n",
       "    <tr>\n",
       "      <th>pelvic_incidence</th>\n",
       "      <td>310.0</td>\n",
       "      <td>60.50</td>\n",
       "      <td>17.24</td>\n",
       "      <td>26.15</td>\n",
       "      <td>46.43</td>\n",
       "      <td>58.69</td>\n",
       "      <td>72.88</td>\n",
       "      <td>129.83</td>\n",
       "    </tr>\n",
       "    <tr>\n",
       "      <th>pelvic_tilt</th>\n",
       "      <td>310.0</td>\n",
       "      <td>17.54</td>\n",
       "      <td>10.01</td>\n",
       "      <td>-6.55</td>\n",
       "      <td>10.67</td>\n",
       "      <td>16.36</td>\n",
       "      <td>22.12</td>\n",
       "      <td>49.43</td>\n",
       "    </tr>\n",
       "    <tr>\n",
       "      <th>lumbar_lordosis_angle</th>\n",
       "      <td>310.0</td>\n",
       "      <td>51.93</td>\n",
       "      <td>18.55</td>\n",
       "      <td>14.00</td>\n",
       "      <td>37.00</td>\n",
       "      <td>49.56</td>\n",
       "      <td>63.00</td>\n",
       "      <td>125.74</td>\n",
       "    </tr>\n",
       "    <tr>\n",
       "      <th>sacral_slope</th>\n",
       "      <td>310.0</td>\n",
       "      <td>42.95</td>\n",
       "      <td>13.42</td>\n",
       "      <td>13.37</td>\n",
       "      <td>33.35</td>\n",
       "      <td>42.40</td>\n",
       "      <td>52.70</td>\n",
       "      <td>121.43</td>\n",
       "    </tr>\n",
       "    <tr>\n",
       "      <th>pelvic_radius</th>\n",
       "      <td>310.0</td>\n",
       "      <td>117.92</td>\n",
       "      <td>13.32</td>\n",
       "      <td>70.08</td>\n",
       "      <td>110.71</td>\n",
       "      <td>118.27</td>\n",
       "      <td>125.47</td>\n",
       "      <td>163.07</td>\n",
       "    </tr>\n",
       "    <tr>\n",
       "      <th>degree_spondylolisthesis</th>\n",
       "      <td>310.0</td>\n",
       "      <td>26.30</td>\n",
       "      <td>37.56</td>\n",
       "      <td>-11.06</td>\n",
       "      <td>1.60</td>\n",
       "      <td>11.77</td>\n",
       "      <td>41.29</td>\n",
       "      <td>418.54</td>\n",
       "    </tr>\n",
       "  </tbody>\n",
       "</table>\n",
       "</div>"
      ],
      "text/plain": [
       "                          count    mean    std    min     25%     50%     75%  \\\n",
       "pelvic_incidence          310.0   60.50  17.24  26.15   46.43   58.69   72.88   \n",
       "pelvic_tilt               310.0   17.54  10.01  -6.55   10.67   16.36   22.12   \n",
       "lumbar_lordosis_angle     310.0   51.93  18.55  14.00   37.00   49.56   63.00   \n",
       "sacral_slope              310.0   42.95  13.42  13.37   33.35   42.40   52.70   \n",
       "pelvic_radius             310.0  117.92  13.32  70.08  110.71  118.27  125.47   \n",
       "degree_spondylolisthesis  310.0   26.30  37.56 -11.06    1.60   11.77   41.29   \n",
       "\n",
       "                             max  \n",
       "pelvic_incidence          129.83  \n",
       "pelvic_tilt                49.43  \n",
       "lumbar_lordosis_angle     125.74  \n",
       "sacral_slope              121.43  \n",
       "pelvic_radius             163.07  \n",
       "degree_spondylolisthesis  418.54  "
      ]
     },
     "execution_count": 3,
     "metadata": {},
     "output_type": "execute_result"
    }
   ],
   "source": [
    "df = pd.read_csv('abnormality.csv', sep=',')\n",
    "df.describe().round(2).T"
   ]
  },
  {
   "cell_type": "code",
   "execution_count": 4,
   "id": "7a99c42a-19ec-4d9c-85dc-044c23316af1",
   "metadata": {},
   "outputs": [
    {
     "data": {
      "text/plain": [
       "pelvic_incidence            float64\n",
       "pelvic_tilt                 float64\n",
       "lumbar_lordosis_angle       float64\n",
       "sacral_slope                float64\n",
       "pelvic_radius               float64\n",
       "degree_spondylolisthesis    float64\n",
       "diagnose                     object\n",
       "dtype: object"
      ]
     },
     "execution_count": 4,
     "metadata": {},
     "output_type": "execute_result"
    }
   ],
   "source": [
    "df.dtypes"
   ]
  },
  {
   "cell_type": "markdown",
   "id": "b5e336ef-ad1a-4fad-ad51-62577b0656d5",
   "metadata": {},
   "source": [
    "The dataset does not have missing values and all the data is in <code>float</code> form already, except for the diagnose, which is an object containing values <code>NORMAL</code> and <code>ABNORMAL</code>. For these we will change the values to *0* and *1*, zero corresponding a normal diagnose and one corresponding abnormal."
   ]
  },
  {
   "cell_type": "code",
   "execution_count": 5,
   "id": "459fd183-0b6c-4654-9d3f-c96cb5de37f3",
   "metadata": {},
   "outputs": [],
   "source": [
    "# Replace diagnoses with numerical values\n",
    "# Normal is identified as 0 and abnormal is identified as 1\n",
    "df[\"diagnose\"].replace({\"Normal\": 0, \"Abnormal\": 1}, inplace=True)"
   ]
  },
  {
   "cell_type": "code",
   "execution_count": 6,
   "id": "91234d11-4ed5-4656-8165-a39218f638d3",
   "metadata": {},
   "outputs": [
    {
     "data": {
      "text/html": [
       "<div>\n",
       "<style scoped>\n",
       "    .dataframe tbody tr th:only-of-type {\n",
       "        vertical-align: middle;\n",
       "    }\n",
       "\n",
       "    .dataframe tbody tr th {\n",
       "        vertical-align: top;\n",
       "    }\n",
       "\n",
       "    .dataframe thead th {\n",
       "        text-align: right;\n",
       "    }\n",
       "</style>\n",
       "<table border=\"1\" class=\"dataframe\">\n",
       "  <thead>\n",
       "    <tr style=\"text-align: right;\">\n",
       "      <th></th>\n",
       "      <th>pelvic_incidence</th>\n",
       "      <th>pelvic_tilt</th>\n",
       "      <th>lumbar_lordosis_angle</th>\n",
       "      <th>sacral_slope</th>\n",
       "      <th>pelvic_radius</th>\n",
       "      <th>degree_spondylolisthesis</th>\n",
       "    </tr>\n",
       "  </thead>\n",
       "  <tbody>\n",
       "    <tr>\n",
       "      <th>305</th>\n",
       "      <td>47.90</td>\n",
       "      <td>13.62</td>\n",
       "      <td>36.00</td>\n",
       "      <td>34.29</td>\n",
       "      <td>117.45</td>\n",
       "      <td>-4.25</td>\n",
       "    </tr>\n",
       "    <tr>\n",
       "      <th>306</th>\n",
       "      <td>53.94</td>\n",
       "      <td>20.72</td>\n",
       "      <td>29.22</td>\n",
       "      <td>33.22</td>\n",
       "      <td>114.37</td>\n",
       "      <td>-0.42</td>\n",
       "    </tr>\n",
       "    <tr>\n",
       "      <th>307</th>\n",
       "      <td>61.45</td>\n",
       "      <td>22.69</td>\n",
       "      <td>46.17</td>\n",
       "      <td>38.75</td>\n",
       "      <td>125.67</td>\n",
       "      <td>-2.71</td>\n",
       "    </tr>\n",
       "    <tr>\n",
       "      <th>308</th>\n",
       "      <td>45.25</td>\n",
       "      <td>8.69</td>\n",
       "      <td>41.58</td>\n",
       "      <td>36.56</td>\n",
       "      <td>118.55</td>\n",
       "      <td>0.21</td>\n",
       "    </tr>\n",
       "    <tr>\n",
       "      <th>309</th>\n",
       "      <td>33.84</td>\n",
       "      <td>5.07</td>\n",
       "      <td>36.64</td>\n",
       "      <td>28.77</td>\n",
       "      <td>123.95</td>\n",
       "      <td>-0.20</td>\n",
       "    </tr>\n",
       "  </tbody>\n",
       "</table>\n",
       "</div>"
      ],
      "text/plain": [
       "     pelvic_incidence  pelvic_tilt  lumbar_lordosis_angle  sacral_slope  \\\n",
       "305             47.90        13.62                  36.00         34.29   \n",
       "306             53.94        20.72                  29.22         33.22   \n",
       "307             61.45        22.69                  46.17         38.75   \n",
       "308             45.25         8.69                  41.58         36.56   \n",
       "309             33.84         5.07                  36.64         28.77   \n",
       "\n",
       "     pelvic_radius  degree_spondylolisthesis  \n",
       "305         117.45                     -4.25  \n",
       "306         114.37                     -0.42  \n",
       "307         125.67                     -2.71  \n",
       "308         118.55                      0.21  \n",
       "309         123.95                     -0.20  "
      ]
     },
     "execution_count": 6,
     "metadata": {},
     "output_type": "execute_result"
    }
   ],
   "source": [
    "# Extract data into labels, features and column names\n",
    "labels = df[\"diagnose\"]\n",
    "features = df.drop(\"diagnose\", axis = 1)\n",
    "colnames = features.columns\n",
    "\n",
    "features.tail(5).round(2)"
   ]
  },
  {
   "cell_type": "code",
   "execution_count": 7,
   "id": "14d3ac54-319e-4f5c-9475-b5f67a5266b4",
   "metadata": {},
   "outputs": [
    {
     "data": {
      "text/html": [
       "<div>\n",
       "<style scoped>\n",
       "    .dataframe tbody tr th:only-of-type {\n",
       "        vertical-align: middle;\n",
       "    }\n",
       "\n",
       "    .dataframe tbody tr th {\n",
       "        vertical-align: top;\n",
       "    }\n",
       "\n",
       "    .dataframe thead th {\n",
       "        text-align: right;\n",
       "    }\n",
       "</style>\n",
       "<table border=\"1\" class=\"dataframe\">\n",
       "  <thead>\n",
       "    <tr style=\"text-align: right;\">\n",
       "      <th></th>\n",
       "      <th>pelvic_incidence</th>\n",
       "      <th>pelvic_tilt</th>\n",
       "      <th>lumbar_lordosis_angle</th>\n",
       "      <th>sacral_slope</th>\n",
       "      <th>pelvic_radius</th>\n",
       "      <th>degree_spondylolisthesis</th>\n",
       "    </tr>\n",
       "  </thead>\n",
       "  <tbody>\n",
       "    <tr>\n",
       "      <th>305</th>\n",
       "      <td>-0.73</td>\n",
       "      <td>-0.39</td>\n",
       "      <td>-0.86</td>\n",
       "      <td>-0.65</td>\n",
       "      <td>-0.04</td>\n",
       "      <td>-0.81</td>\n",
       "    </tr>\n",
       "    <tr>\n",
       "      <th>306</th>\n",
       "      <td>-0.38</td>\n",
       "      <td>0.32</td>\n",
       "      <td>-1.23</td>\n",
       "      <td>-0.73</td>\n",
       "      <td>-0.27</td>\n",
       "      <td>-0.71</td>\n",
       "    </tr>\n",
       "    <tr>\n",
       "      <th>307</th>\n",
       "      <td>0.06</td>\n",
       "      <td>0.52</td>\n",
       "      <td>-0.31</td>\n",
       "      <td>-0.31</td>\n",
       "      <td>0.58</td>\n",
       "      <td>-0.77</td>\n",
       "    </tr>\n",
       "    <tr>\n",
       "      <th>308</th>\n",
       "      <td>-0.89</td>\n",
       "      <td>-0.89</td>\n",
       "      <td>-0.56</td>\n",
       "      <td>-0.48</td>\n",
       "      <td>0.05</td>\n",
       "      <td>-0.70</td>\n",
       "    </tr>\n",
       "    <tr>\n",
       "      <th>309</th>\n",
       "      <td>-1.55</td>\n",
       "      <td>-1.25</td>\n",
       "      <td>-0.83</td>\n",
       "      <td>-1.06</td>\n",
       "      <td>0.45</td>\n",
       "      <td>-0.71</td>\n",
       "    </tr>\n",
       "  </tbody>\n",
       "</table>\n",
       "</div>"
      ],
      "text/plain": [
       "     pelvic_incidence  pelvic_tilt  lumbar_lordosis_angle  sacral_slope  \\\n",
       "305             -0.73        -0.39                  -0.86         -0.65   \n",
       "306             -0.38         0.32                  -1.23         -0.73   \n",
       "307              0.06         0.52                  -0.31         -0.31   \n",
       "308             -0.89        -0.89                  -0.56         -0.48   \n",
       "309             -1.55        -1.25                  -0.83         -1.06   \n",
       "\n",
       "     pelvic_radius  degree_spondylolisthesis  \n",
       "305          -0.04                     -0.81  \n",
       "306          -0.27                     -0.71  \n",
       "307           0.58                     -0.77  \n",
       "308           0.05                     -0.70  \n",
       "309           0.45                     -0.71  "
      ]
     },
     "execution_count": 7,
     "metadata": {},
     "output_type": "execute_result"
    }
   ],
   "source": [
    "# Scale data\n",
    "scaler = StandardScaler()\n",
    "features = pd.DataFrame(scaler.fit_transform(features), columns = colnames)\n",
    "\n",
    "features.tail(5).round(2)"
   ]
  },
  {
   "cell_type": "markdown",
   "id": "2a667172-a756-449c-8842-78d289f2202c",
   "metadata": {},
   "source": [
    "The data has some fluctuation between columns, so we will scale it with <code>sklearn.preprocessing.StandardScaler()</code> to ease comparing the values between each other."
   ]
  },
  {
   "cell_type": "code",
   "execution_count": 8,
   "id": "31803342-96da-4b8e-8a28-8a2dec943a7d",
   "metadata": {},
   "outputs": [
    {
     "data": {
      "text/plain": [
       "<AxesSubplot:>"
      ]
     },
     "execution_count": 8,
     "metadata": {},
     "output_type": "execute_result"
    },
    {
     "data": {
      "image/png": "[encoded data removed]",
      "text/plain": [
       "<Figure size 864x576 with 2 Axes>"
      ]
     },
     "metadata": {
      "needs_background": "light"
     },
     "output_type": "display_data"
    }
   ],
   "source": [
    "corr = df.corr(method=\"pearson\")\n",
    "plt.figure(figsize=(12,8))\n",
    "sns.heatmap(corr, cmap=\"Reds\", annot=True)"
   ]
  },
  {
   "cell_type": "markdown",
   "id": "28bba75f-b295-4953-9052-5c74d52a2bda",
   "metadata": {},
   "source": [
    "Here we can see a heatmap and every variables relation to each other. For example, we can see that <code>sacral_slope</code> and <code>pelvic_incidence</code> are highly correlated. In fact, most of the variables are correlated to each other quite highly. However, as we have only six columns, we decided to not delete any from the dataset."
   ]
  },
  {
   "cell_type": "code",
   "execution_count": 9,
   "id": "2473c059-8bbd-4fa4-bfc9-3f291f956499",
   "metadata": {},
   "outputs": [
    {
     "name": "stdout",
     "output_type": "stream",
     "text": [
      "Coefficients:\n",
      "pelvic_incidence          : -0.1849\n",
      "pelvic_tilt               : 0.6879\n",
      "lumbar_lordosis_angle     : -0.1539\n",
      "sacral_slope              : -0.7503\n",
      "pelvic_radius             : -1.1323\n",
      "degree_spondylolisthesis  : 4.0671\n",
      "\n",
      "Intercept: 2.167410451970614\n"
     ]
    }
   ],
   "source": [
    "# Make model and fit it\n",
    "reg = linear_model.LogisticRegression()\n",
    "reg.fit(features, labels)\n",
    "\n",
    "# Get the coefficients and intercept value\n",
    "print(\"Coefficients:\")\n",
    "for (index, coef) in enumerate(reg.coef_[0]):\n",
    "    print (f\"{colnames[index]:25s} : {round(coef, 4)}\")\n",
    "print(\"\\nIntercept:\", reg.intercept_[0])"
   ]
  },
  {
   "cell_type": "markdown",
   "id": "65f330a2-8f8e-48e9-bd84-2b00b4ffe00e",
   "metadata": {},
   "source": [
    "From the coefficients we can see that <code>degree_spondylolisthesis</code> as well as <code>pelvic_radius</code> have the most impact on determining the diagnose. <code>degree_spondylolisthesis</code> raises the chance of abnormality and <code>pelvic_radius</code> lowers the chance of abnormality."
   ]
  },
  {
   "cell_type": "markdown",
   "id": "0dd3358f-8d8f-4a20-9e98-39d562b93d10",
   "metadata": {},
   "source": [
    "## Part III - Validation and evaluation\n",
    "\n",
    "Before validating the data, we got ~85.8 % accuracy for the trained data."
   ]
  },
  {
   "cell_type": "code",
   "execution_count": 10,
   "id": "090f9bd5-fc44-4abd-a12e-5e786025a591",
   "metadata": {},
   "outputs": [
    {
     "data": {
      "text/plain": [
       "0.8580645161290322"
      ]
     },
     "execution_count": 10,
     "metadata": {},
     "output_type": "execute_result"
    }
   ],
   "source": [
    "reg.score(features, labels)"
   ]
  },
  {
   "cell_type": "markdown",
   "id": "0a7ed15d-01bd-422d-bd6a-f72b8e10960b",
   "metadata": {},
   "source": [
    "We decided to use cross validation because it is [better for smaller datasets](https://stackoverflow.com/questions/37003095/when-to-use-k-fold-cross-validation-and-when-to-use-split-percentage) like ours (only 310 instances).  \n",
    "After validation, the accuracy was 82 %. We used cross validation (with 10 folds) to validate the data."
   ]
  },
  {
   "cell_type": "code",
   "execution_count": 11,
   "id": "302ffc67-05f6-4eb3-aba6-91a0d17f1114",
   "metadata": {},
   "outputs": [
    {
     "name": "stdout",
     "output_type": "stream",
     "text": [
      "Accuracies from 10 individual folds\n",
      "58.0645 %\n",
      "61.2903 %\n",
      "80.6452 %\n",
      "77.4194 %\n",
      "90.3226 %\n",
      "93.5484 %\n",
      "93.5484 %\n",
      "90.3226 %\n",
      "80.6452 %\n",
      "93.5484 %\n",
      "Accuracy calculated using 10-fold cross validation = 0.82\n"
     ]
    }
   ],
   "source": [
    "# Cross-validate the data\n",
    "k = 10\n",
    "scores = cross_val_score(estimator = reg, X = features, y = labels, scoring = \"accuracy\", cv = k)\n",
    "print(f\"Accuracies from {k} individual folds\")\n",
    "for score in scores:\n",
    "    print(round(score * 100,4), '%')\n",
    "print(f\"Accuracy calculated using {k}-fold cross validation = {scores.mean():.2}\")"
   ]
  },
  {
   "cell_type": "markdown",
   "id": "d076a50c-23b9-4429-86a5-0e18e0121335",
   "metadata": {},
   "source": [
    "## Part IV - Results From Input\n",
    "\n",
    "Here you can see the results from the inputs that have been given in **Part I**. Below you can see how the model has determined if the patient is afflicted or not (abnormal or not) with an input of:\n",
    "\n",
    "|Input|Value|\n",
    "|---|---|\n",
    "|pelvic incidence|60.12|\n",
    "|pelvic tilt|30.87|\n",
    "|lumbar lordosis angle|50.01|\n",
    "|sacral slope|40.69|\n",
    "|pelvic radius|120.55|\n",
    "|grade of spondylolisthesis|40.02|\n",
    "\n",
    "Try it out with your own inputs to see which kind of diagnose does it produce!"
   ]
  },
  {
   "cell_type": "code",
   "execution_count": 12,
   "id": "c8dd530f-cb43-4f9e-8c29-9dfb1e5a5984",
   "metadata": {},
   "outputs": [
    {
     "data": {
      "image/png": "[encoded data removed]",
      "text/plain": [
       "<Figure size 1440x72 with 1 Axes>"
      ]
     },
     "metadata": {
      "needs_background": "light"
     },
     "output_type": "display_data"
    }
   ],
   "source": [
    "prediction = reg.predict(answers)\n",
    "prediction_probability = reg.predict_proba(answers)\n",
    "\n",
    "plt.axis('off')\n",
    "\n",
    "Class = [\"Diagnose\"]\n",
    "First = [prediction_probability[0][0] * 100]\n",
    "Second = [prediction_probability[0][1] * 100]\n",
    "\n",
    "plt.barh(Class, First, 0.2, color=\"green\")\n",
    "plt.barh(Class, Second, 0.2, left=First, color=\"red\")\n",
    "plt.text(1,0, f\"Normal = {round(First[0],2)} %\", ha = \"left\", va = \"center\", color = \"white\", fontsize = 16)\n",
    "plt.text(99,0, f\"Abnormal = {round(Second[0],2)} %\", ha = \"right\", va = \"center\", color = \"white\", fontsize = 16)\n",
    "plt.show()"
   ]
  },
  {
   "cell_type": "markdown",
   "id": "6a6aa012-5160-463a-b1df-564a6aed424f",
   "metadata": {},
   "source": [
    "The model has come to a conclusion that there is a 41.94 % probability that the individual is does not have any afflictions regarding vertebral abnormality and a 58.06 % probability of having one. Because the percetage is higher for the abnormal rate, the conclusion is that the individual has an abnormality."
   ]
  },
  {
   "cell_type": "code",
   "execution_count": 13,
   "id": "f1756fc7-d7d3-420e-84e2-ff9a3eb538c8",
   "metadata": {},
   "outputs": [
    {
     "name": "stdout",
     "output_type": "stream",
     "text": [
      "YOUR DIAGNOSE IS: ABNORMAL\n"
     ]
    }
   ],
   "source": [
    "diagnose = \"ABNORMAL\" if prediction[0] else \"NORMAL\"\n",
    "print (f\"YOUR DIAGNOSE IS: {diagnose}\")"
   ]
  }
 ],
 "metadata": {
  "kernelspec": {
   "display_name": "Python 3 (ipykernel)",
   "language": "python",
   "name": "python3"
  },
  "language_info": {
   "codemirror_mode": {
    "name": "ipython",
    "version": 3
   },
   "file_extension": ".py",
   "mimetype": "text/x-python",
   "name": "python",
   "nbconvert_exporter": "python",
   "pygments_lexer": "ipython3",
   "version": "3.9.7"
  }
 },
 "nbformat": 4,
 "nbformat_minor": 5
}
