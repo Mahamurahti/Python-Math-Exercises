{
 "cells": [
  {
   "cell_type": "code",
   "execution_count": 1,
   "id": "862f26de-a526-436c-9385-3a940e444669",
   "metadata": {},
   "outputs": [
    {
     "name": "stdout",
     "output_type": "stream",
     "text": [
      "Populating the interactive namespace from numpy and matplotlib\n"
     ]
    }
   ],
   "source": [
    "%pylab inline\n",
    "import pandas as pd\n",
    "import seaborn as sns\n",
    "\n",
    "from sklearn import linear_model\n",
    "from sklearn.metrics import mean_squared_error, r2_score\n",
    "from sklearn.preprocessing import StandardScaler\n",
    "from sklearn.model_selection import train_test_split as split\n",
    "\n",
    "# Set the size of plots to a large size\n",
    "plt.rcParams[\"figure.figsize\"] = (20,10)"
   ]
  },
  {
   "cell_type": "markdown",
   "id": "7374917c-0a92-4784-95b8-b7317761116c",
   "metadata": {},
   "source": [
    "# Linear Regression\n",
    "\n",
    "> Contributors: Eric Keränen, Samuel Aitamaa & Teemu Luhtanen\n",
    "\n",
    "In this assignment, we analyse numerical data on wine properties.\n",
    "\n",
    "We chose the red wines dataset for our study. We analyse the wine alcohol content trait.\n",
    "\n",
    "Our task is to build a regression model that predicts the values of our chosen response\n",
    "variable as well as possible.\n",
    "\n",
    "## Part I\n",
    "\n",
    "What is the regression equation for estimating our chosen trait values? "
   ]
  },
  {
   "cell_type": "code",
   "execution_count": 2,
   "id": "16849dfa-a706-4537-9370-978b6b6265c4",
   "metadata": {},
   "outputs": [
    {
     "data": {
      "text/html": [
       "<div>\n",
       "<style scoped>\n",
       "    .dataframe tbody tr th:only-of-type {\n",
       "        vertical-align: middle;\n",
       "    }\n",
       "\n",
       "    .dataframe tbody tr th {\n",
       "        vertical-align: top;\n",
       "    }\n",
       "\n",
       "    .dataframe thead th {\n",
       "        text-align: right;\n",
       "    }\n",
       "</style>\n",
       "<table border=\"1\" class=\"dataframe\">\n",
       "  <thead>\n",
       "    <tr style=\"text-align: right;\">\n",
       "      <th></th>\n",
       "      <th>count</th>\n",
       "      <th>mean</th>\n",
       "      <th>std</th>\n",
       "      <th>min</th>\n",
       "      <th>25%</th>\n",
       "      <th>50%</th>\n",
       "      <th>75%</th>\n",
       "      <th>max</th>\n",
       "    </tr>\n",
       "  </thead>\n",
       "  <tbody>\n",
       "    <tr>\n",
       "      <th>fixed acidity</th>\n",
       "      <td>1599.0</td>\n",
       "      <td>8.32</td>\n",
       "      <td>1.74</td>\n",
       "      <td>4.60</td>\n",
       "      <td>7.10</td>\n",
       "      <td>7.90</td>\n",
       "      <td>9.20</td>\n",
       "      <td>15.90</td>\n",
       "    </tr>\n",
       "    <tr>\n",
       "      <th>volatile acidity</th>\n",
       "      <td>1599.0</td>\n",
       "      <td>0.53</td>\n",
       "      <td>0.18</td>\n",
       "      <td>0.12</td>\n",
       "      <td>0.39</td>\n",
       "      <td>0.52</td>\n",
       "      <td>0.64</td>\n",
       "      <td>1.58</td>\n",
       "    </tr>\n",
       "    <tr>\n",
       "      <th>citric acid</th>\n",
       "      <td>1599.0</td>\n",
       "      <td>0.27</td>\n",
       "      <td>0.19</td>\n",
       "      <td>0.00</td>\n",
       "      <td>0.09</td>\n",
       "      <td>0.26</td>\n",
       "      <td>0.42</td>\n",
       "      <td>1.00</td>\n",
       "    </tr>\n",
       "    <tr>\n",
       "      <th>residual sugar</th>\n",
       "      <td>1599.0</td>\n",
       "      <td>2.54</td>\n",
       "      <td>1.41</td>\n",
       "      <td>0.90</td>\n",
       "      <td>1.90</td>\n",
       "      <td>2.20</td>\n",
       "      <td>2.60</td>\n",
       "      <td>15.50</td>\n",
       "    </tr>\n",
       "    <tr>\n",
       "      <th>chlorides</th>\n",
       "      <td>1599.0</td>\n",
       "      <td>0.09</td>\n",
       "      <td>0.05</td>\n",
       "      <td>0.01</td>\n",
       "      <td>0.07</td>\n",
       "      <td>0.08</td>\n",
       "      <td>0.09</td>\n",
       "      <td>0.61</td>\n",
       "    </tr>\n",
       "    <tr>\n",
       "      <th>free sulfur dioxide</th>\n",
       "      <td>1599.0</td>\n",
       "      <td>15.87</td>\n",
       "      <td>10.46</td>\n",
       "      <td>1.00</td>\n",
       "      <td>7.00</td>\n",
       "      <td>14.00</td>\n",
       "      <td>21.00</td>\n",
       "      <td>72.00</td>\n",
       "    </tr>\n",
       "    <tr>\n",
       "      <th>total sulfur dioxide</th>\n",
       "      <td>1599.0</td>\n",
       "      <td>46.47</td>\n",
       "      <td>32.90</td>\n",
       "      <td>6.00</td>\n",
       "      <td>22.00</td>\n",
       "      <td>38.00</td>\n",
       "      <td>62.00</td>\n",
       "      <td>289.00</td>\n",
       "    </tr>\n",
       "    <tr>\n",
       "      <th>density</th>\n",
       "      <td>1599.0</td>\n",
       "      <td>1.00</td>\n",
       "      <td>0.00</td>\n",
       "      <td>0.99</td>\n",
       "      <td>1.00</td>\n",
       "      <td>1.00</td>\n",
       "      <td>1.00</td>\n",
       "      <td>1.00</td>\n",
       "    </tr>\n",
       "    <tr>\n",
       "      <th>pH</th>\n",
       "      <td>1599.0</td>\n",
       "      <td>3.31</td>\n",
       "      <td>0.15</td>\n",
       "      <td>2.74</td>\n",
       "      <td>3.21</td>\n",
       "      <td>3.31</td>\n",
       "      <td>3.40</td>\n",
       "      <td>4.01</td>\n",
       "    </tr>\n",
       "    <tr>\n",
       "      <th>sulphates</th>\n",
       "      <td>1599.0</td>\n",
       "      <td>0.66</td>\n",
       "      <td>0.17</td>\n",
       "      <td>0.33</td>\n",
       "      <td>0.55</td>\n",
       "      <td>0.62</td>\n",
       "      <td>0.73</td>\n",
       "      <td>2.00</td>\n",
       "    </tr>\n",
       "    <tr>\n",
       "      <th>alcohol</th>\n",
       "      <td>1599.0</td>\n",
       "      <td>10.42</td>\n",
       "      <td>1.07</td>\n",
       "      <td>8.40</td>\n",
       "      <td>9.50</td>\n",
       "      <td>10.20</td>\n",
       "      <td>11.10</td>\n",
       "      <td>14.90</td>\n",
       "    </tr>\n",
       "    <tr>\n",
       "      <th>quality</th>\n",
       "      <td>1599.0</td>\n",
       "      <td>5.64</td>\n",
       "      <td>0.81</td>\n",
       "      <td>3.00</td>\n",
       "      <td>5.00</td>\n",
       "      <td>6.00</td>\n",
       "      <td>6.00</td>\n",
       "      <td>8.00</td>\n",
       "    </tr>\n",
       "  </tbody>\n",
       "</table>\n",
       "</div>"
      ],
      "text/plain": [
       "                       count   mean    std   min    25%    50%    75%     max\n",
       "fixed acidity         1599.0   8.32   1.74  4.60   7.10   7.90   9.20   15.90\n",
       "volatile acidity      1599.0   0.53   0.18  0.12   0.39   0.52   0.64    1.58\n",
       "citric acid           1599.0   0.27   0.19  0.00   0.09   0.26   0.42    1.00\n",
       "residual sugar        1599.0   2.54   1.41  0.90   1.90   2.20   2.60   15.50\n",
       "chlorides             1599.0   0.09   0.05  0.01   0.07   0.08   0.09    0.61\n",
       "free sulfur dioxide   1599.0  15.87  10.46  1.00   7.00  14.00  21.00   72.00\n",
       "total sulfur dioxide  1599.0  46.47  32.90  6.00  22.00  38.00  62.00  289.00\n",
       "density               1599.0   1.00   0.00  0.99   1.00   1.00   1.00    1.00\n",
       "pH                    1599.0   3.31   0.15  2.74   3.21   3.31   3.40    4.01\n",
       "sulphates             1599.0   0.66   0.17  0.33   0.55   0.62   0.73    2.00\n",
       "alcohol               1599.0  10.42   1.07  8.40   9.50  10.20  11.10   14.90\n",
       "quality               1599.0   5.64   0.81  3.00   5.00   6.00   6.00    8.00"
      ]
     },
     "execution_count": 2,
     "metadata": {},
     "output_type": "execute_result"
    }
   ],
   "source": [
    "df = pd.read_csv('winequality-red.csv', sep=';')\n",
    "df.describe().round(2).T"
   ]
  },
  {
   "cell_type": "markdown",
   "id": "88db7adb-b865-4804-8765-eb3a61fd9ad2",
   "metadata": {},
   "source": [
    "There are no missing values."
   ]
  },
  {
   "cell_type": "code",
   "execution_count": 3,
   "id": "4a97616e-62f7-4aaf-8a40-b47aa4a40b4f",
   "metadata": {},
   "outputs": [
    {
     "data": {
      "text/plain": [
       "fixed acidity           float64\n",
       "volatile acidity        float64\n",
       "citric acid             float64\n",
       "residual sugar          float64\n",
       "chlorides               float64\n",
       "free sulfur dioxide     float64\n",
       "total sulfur dioxide    float64\n",
       "density                 float64\n",
       "pH                      float64\n",
       "sulphates               float64\n",
       "alcohol                 float64\n",
       "quality                   int64\n",
       "dtype: object"
      ]
     },
     "execution_count": 3,
     "metadata": {},
     "output_type": "execute_result"
    }
   ],
   "source": [
    "df.dtypes"
   ]
  },
  {
   "cell_type": "markdown",
   "id": "28eac6a5-5d5f-44b8-b3d9-8d7981b0d217",
   "metadata": {},
   "source": [
    "Only <code>quality</code> is <code>int64</code>, which we change to <code>float64</code> just to be sure."
   ]
  },
  {
   "cell_type": "code",
   "execution_count": 4,
   "id": "25690758-c658-494c-b066-90140d57df1b",
   "metadata": {},
   "outputs": [],
   "source": [
    "# We can see that only quality is of type int64, so we change only that\n",
    "df[\"quality\"] = df[\"quality\"].astype(dtype = \"float64\")"
   ]
  },
  {
   "cell_type": "code",
   "execution_count": 5,
   "id": "4576ee7e-561b-4e04-aa04-d638695593fb",
   "metadata": {},
   "outputs": [
    {
     "data": {
      "text/html": [
       "<div>\n",
       "<style scoped>\n",
       "    .dataframe tbody tr th:only-of-type {\n",
       "        vertical-align: middle;\n",
       "    }\n",
       "\n",
       "    .dataframe tbody tr th {\n",
       "        vertical-align: top;\n",
       "    }\n",
       "\n",
       "    .dataframe thead th {\n",
       "        text-align: right;\n",
       "    }\n",
       "</style>\n",
       "<table border=\"1\" class=\"dataframe\">\n",
       "  <thead>\n",
       "    <tr style=\"text-align: right;\">\n",
       "      <th></th>\n",
       "      <th>fixed acidity</th>\n",
       "      <th>volatile acidity</th>\n",
       "      <th>citric acid</th>\n",
       "      <th>residual sugar</th>\n",
       "      <th>chlorides</th>\n",
       "      <th>free sulfur dioxide</th>\n",
       "      <th>total sulfur dioxide</th>\n",
       "      <th>density</th>\n",
       "      <th>pH</th>\n",
       "      <th>sulphates</th>\n",
       "      <th>quality</th>\n",
       "    </tr>\n",
       "  </thead>\n",
       "  <tbody>\n",
       "    <tr>\n",
       "      <th>1594</th>\n",
       "      <td>6.2</td>\n",
       "      <td>0.600</td>\n",
       "      <td>0.08</td>\n",
       "      <td>2.0</td>\n",
       "      <td>0.090</td>\n",
       "      <td>32.0</td>\n",
       "      <td>44.0</td>\n",
       "      <td>0.99490</td>\n",
       "      <td>3.45</td>\n",
       "      <td>0.58</td>\n",
       "      <td>5.0</td>\n",
       "    </tr>\n",
       "    <tr>\n",
       "      <th>1595</th>\n",
       "      <td>5.9</td>\n",
       "      <td>0.550</td>\n",
       "      <td>0.10</td>\n",
       "      <td>2.2</td>\n",
       "      <td>0.062</td>\n",
       "      <td>39.0</td>\n",
       "      <td>51.0</td>\n",
       "      <td>0.99512</td>\n",
       "      <td>3.52</td>\n",
       "      <td>0.76</td>\n",
       "      <td>6.0</td>\n",
       "    </tr>\n",
       "    <tr>\n",
       "      <th>1596</th>\n",
       "      <td>6.3</td>\n",
       "      <td>0.510</td>\n",
       "      <td>0.13</td>\n",
       "      <td>2.3</td>\n",
       "      <td>0.076</td>\n",
       "      <td>29.0</td>\n",
       "      <td>40.0</td>\n",
       "      <td>0.99574</td>\n",
       "      <td>3.42</td>\n",
       "      <td>0.75</td>\n",
       "      <td>6.0</td>\n",
       "    </tr>\n",
       "    <tr>\n",
       "      <th>1597</th>\n",
       "      <td>5.9</td>\n",
       "      <td>0.645</td>\n",
       "      <td>0.12</td>\n",
       "      <td>2.0</td>\n",
       "      <td>0.075</td>\n",
       "      <td>32.0</td>\n",
       "      <td>44.0</td>\n",
       "      <td>0.99547</td>\n",
       "      <td>3.57</td>\n",
       "      <td>0.71</td>\n",
       "      <td>5.0</td>\n",
       "    </tr>\n",
       "    <tr>\n",
       "      <th>1598</th>\n",
       "      <td>6.0</td>\n",
       "      <td>0.310</td>\n",
       "      <td>0.47</td>\n",
       "      <td>3.6</td>\n",
       "      <td>0.067</td>\n",
       "      <td>18.0</td>\n",
       "      <td>42.0</td>\n",
       "      <td>0.99549</td>\n",
       "      <td>3.39</td>\n",
       "      <td>0.66</td>\n",
       "      <td>6.0</td>\n",
       "    </tr>\n",
       "  </tbody>\n",
       "</table>\n",
       "</div>"
      ],
      "text/plain": [
       "      fixed acidity  volatile acidity  citric acid  residual sugar  chlorides  \\\n",
       "1594            6.2             0.600         0.08             2.0      0.090   \n",
       "1595            5.9             0.550         0.10             2.2      0.062   \n",
       "1596            6.3             0.510         0.13             2.3      0.076   \n",
       "1597            5.9             0.645         0.12             2.0      0.075   \n",
       "1598            6.0             0.310         0.47             3.6      0.067   \n",
       "\n",
       "      free sulfur dioxide  total sulfur dioxide  density    pH  sulphates  \\\n",
       "1594                 32.0                  44.0  0.99490  3.45       0.58   \n",
       "1595                 39.0                  51.0  0.99512  3.52       0.76   \n",
       "1596                 29.0                  40.0  0.99574  3.42       0.75   \n",
       "1597                 32.0                  44.0  0.99547  3.57       0.71   \n",
       "1598                 18.0                  42.0  0.99549  3.39       0.66   \n",
       "\n",
       "      quality  \n",
       "1594      5.0  \n",
       "1595      6.0  \n",
       "1596      6.0  \n",
       "1597      5.0  \n",
       "1598      6.0  "
      ]
     },
     "execution_count": 5,
     "metadata": {},
     "output_type": "execute_result"
    }
   ],
   "source": [
    "# Extract data into labels and features\n",
    "labels = df[\"alcohol\"]\n",
    "features = df.drop(\"alcohol\", axis = 1)\n",
    "\n",
    "features.tail(5)"
   ]
  },
  {
   "cell_type": "markdown",
   "id": "0868b3b2-31fc-4a0c-99f7-a12589251ce9",
   "metadata": {},
   "source": [
    "Above we can see the data. We can see a lot of fluctuation between column values, which are hard to compare. Scaling should come in handy."
   ]
  },
  {
   "cell_type": "code",
   "execution_count": 6,
   "id": "db53ae7b-2c9f-4038-be8e-c97296492756",
   "metadata": {},
   "outputs": [
    {
     "data": {
      "text/html": [
       "<div>\n",
       "<style scoped>\n",
       "    .dataframe tbody tr th:only-of-type {\n",
       "        vertical-align: middle;\n",
       "    }\n",
       "\n",
       "    .dataframe tbody tr th {\n",
       "        vertical-align: top;\n",
       "    }\n",
       "\n",
       "    .dataframe thead th {\n",
       "        text-align: right;\n",
       "    }\n",
       "</style>\n",
       "<table border=\"1\" class=\"dataframe\">\n",
       "  <thead>\n",
       "    <tr style=\"text-align: right;\">\n",
       "      <th></th>\n",
       "      <th>fixed acidity</th>\n",
       "      <th>volatile acidity</th>\n",
       "      <th>citric acid</th>\n",
       "      <th>residual sugar</th>\n",
       "      <th>chlorides</th>\n",
       "      <th>free sulfur dioxide</th>\n",
       "      <th>total sulfur dioxide</th>\n",
       "      <th>density</th>\n",
       "      <th>pH</th>\n",
       "      <th>sulphates</th>\n",
       "      <th>quality</th>\n",
       "    </tr>\n",
       "  </thead>\n",
       "  <tbody>\n",
       "    <tr>\n",
       "      <th>1594</th>\n",
       "      <td>-1.217796</td>\n",
       "      <td>0.403229</td>\n",
       "      <td>-0.980669</td>\n",
       "      <td>-0.382271</td>\n",
       "      <td>0.053845</td>\n",
       "      <td>1.542054</td>\n",
       "      <td>-0.075043</td>\n",
       "      <td>-0.978765</td>\n",
       "      <td>0.899886</td>\n",
       "      <td>-0.461180</td>\n",
       "      <td>-0.787823</td>\n",
       "    </tr>\n",
       "    <tr>\n",
       "      <th>1595</th>\n",
       "      <td>-1.390155</td>\n",
       "      <td>0.123905</td>\n",
       "      <td>-0.877968</td>\n",
       "      <td>-0.240375</td>\n",
       "      <td>-0.541259</td>\n",
       "      <td>2.211469</td>\n",
       "      <td>0.137820</td>\n",
       "      <td>-0.862162</td>\n",
       "      <td>1.353436</td>\n",
       "      <td>0.601055</td>\n",
       "      <td>0.450848</td>\n",
       "    </tr>\n",
       "    <tr>\n",
       "      <th>1596</th>\n",
       "      <td>-1.160343</td>\n",
       "      <td>-0.099554</td>\n",
       "      <td>-0.723916</td>\n",
       "      <td>-0.169427</td>\n",
       "      <td>-0.243707</td>\n",
       "      <td>1.255161</td>\n",
       "      <td>-0.196679</td>\n",
       "      <td>-0.533554</td>\n",
       "      <td>0.705508</td>\n",
       "      <td>0.542042</td>\n",
       "      <td>0.450848</td>\n",
       "    </tr>\n",
       "    <tr>\n",
       "      <th>1597</th>\n",
       "      <td>-1.390155</td>\n",
       "      <td>0.654620</td>\n",
       "      <td>-0.775267</td>\n",
       "      <td>-0.382271</td>\n",
       "      <td>-0.264960</td>\n",
       "      <td>1.542054</td>\n",
       "      <td>-0.075043</td>\n",
       "      <td>-0.676657</td>\n",
       "      <td>1.677400</td>\n",
       "      <td>0.305990</td>\n",
       "      <td>-0.787823</td>\n",
       "    </tr>\n",
       "    <tr>\n",
       "      <th>1598</th>\n",
       "      <td>-1.332702</td>\n",
       "      <td>-1.216849</td>\n",
       "      <td>1.021999</td>\n",
       "      <td>0.752894</td>\n",
       "      <td>-0.434990</td>\n",
       "      <td>0.203223</td>\n",
       "      <td>-0.135861</td>\n",
       "      <td>-0.666057</td>\n",
       "      <td>0.511130</td>\n",
       "      <td>0.010924</td>\n",
       "      <td>0.450848</td>\n",
       "    </tr>\n",
       "  </tbody>\n",
       "</table>\n",
       "</div>"
      ],
      "text/plain": [
       "      fixed acidity  volatile acidity  citric acid  residual sugar  chlorides  \\\n",
       "1594      -1.217796          0.403229    -0.980669       -0.382271   0.053845   \n",
       "1595      -1.390155          0.123905    -0.877968       -0.240375  -0.541259   \n",
       "1596      -1.160343         -0.099554    -0.723916       -0.169427  -0.243707   \n",
       "1597      -1.390155          0.654620    -0.775267       -0.382271  -0.264960   \n",
       "1598      -1.332702         -1.216849     1.021999        0.752894  -0.434990   \n",
       "\n",
       "      free sulfur dioxide  total sulfur dioxide   density        pH  \\\n",
       "1594             1.542054             -0.075043 -0.978765  0.899886   \n",
       "1595             2.211469              0.137820 -0.862162  1.353436   \n",
       "1596             1.255161             -0.196679 -0.533554  0.705508   \n",
       "1597             1.542054             -0.075043 -0.676657  1.677400   \n",
       "1598             0.203223             -0.135861 -0.666057  0.511130   \n",
       "\n",
       "      sulphates   quality  \n",
       "1594  -0.461180 -0.787823  \n",
       "1595   0.601055  0.450848  \n",
       "1596   0.542042  0.450848  \n",
       "1597   0.305990 -0.787823  \n",
       "1598   0.010924  0.450848  "
      ]
     },
     "execution_count": 6,
     "metadata": {},
     "output_type": "execute_result"
    }
   ],
   "source": [
    "# Get column names\n",
    "colnames = features.columns\n",
    "\n",
    "# Scale data\n",
    "scaler = StandardScaler()\n",
    "features = pd.DataFrame(scaler.fit_transform(features), columns = colnames)\n",
    "\n",
    "features.tail(5)"
   ]
  },
  {
   "cell_type": "markdown",
   "id": "a510a900-283a-44d9-9803-394ba9bd9c13",
   "metadata": {},
   "source": [
    "Scaled data makes it much more easy to compare data between columns."
   ]
  },
  {
   "cell_type": "code",
   "execution_count": 7,
   "id": "f65fbcdb-8675-4925-8108-6258c42641a1",
   "metadata": {},
   "outputs": [
    {
     "data": {
      "text/plain": [
       "<AxesSubplot:>"
      ]
     },
     "execution_count": 7,
     "metadata": {},
     "output_type": "execute_result"
    },
    {
     "data": {
      "image/png": "[encoded data removed]",
      "text/plain": [
       "<Figure size 864x576 with 2 Axes>"
      ]
     },
     "metadata": {
      "needs_background": "light"
     },
     "output_type": "display_data"
    }
   ],
   "source": [
    "corr = df.corr(method=\"pearson\")\n",
    "plt.figure(figsize=(12,8))\n",
    "sns.heatmap(corr, cmap=\"Reds\", annot=True)"
   ]
  },
  {
   "cell_type": "markdown",
   "id": "f2fdc3c5-90e7-48db-b517-f565bbf1094e",
   "metadata": {},
   "source": [
    "We can see that only density and fixed acidity as well as total sulfur dioxide and free sulfur dioxide correlate somewhat. We decided to not delete any values."
   ]
  },
  {
   "cell_type": "code",
   "execution_count": 8,
   "id": "4fad3657-9100-4dea-8c8d-2dc198b95379",
   "metadata": {},
   "outputs": [],
   "source": [
    "# Split original data into 70 % training data and 30 % test data\n",
    "train_features, test_features, train_labels, test_labels = split(features, labels, test_size=0.30, train_size=0.70, random_state=0)"
   ]
  },
  {
   "cell_type": "markdown",
   "id": "d36c68c3-b879-4228-899d-aacd3f4d8f0a",
   "metadata": {},
   "source": [
    "Here we also split the data so we can use a test set in Part III."
   ]
  },
  {
   "cell_type": "code",
   "execution_count": 9,
   "id": "954b219d-1d51-49a8-a6da-a332d7e7618d",
   "metadata": {},
   "outputs": [
    {
     "name": "stdout",
     "output_type": "stream",
     "text": [
      "Coefficients:\n",
      "fixed acidity: 0.8505\n",
      "volatile acidity: 0.111\n",
      "citric acid: 0.1465\n",
      "residual sugar: 0.3599\n",
      "chlorides: -0.0376\n",
      "free sulfur dioxide: -0.0569\n",
      "total sulfur dioxide: -0.0191\n",
      "density: -1.0846\n",
      "pH: 0.5676\n",
      "sulphates: 0.1719\n",
      "quality: 0.1863\n",
      "\n",
      "Intercept: 10.402327523586672\n"
     ]
    }
   ],
   "source": [
    "# Make model and fit it\n",
    "reg = linear_model.LinearRegression()\n",
    "reg.fit(train_features, train_labels)\n",
    "\n",
    "# Get the coefficients and intercept value\n",
    "print(\"Coefficients:\")\n",
    "for (index, coef) in enumerate(reg.coef_):\n",
    "    print (f\"{colnames[index]}: {round(coef, 4)}\")\n",
    "print(\"\\nIntercept:\", reg.intercept_)"
   ]
  },
  {
   "cell_type": "markdown",
   "id": "367134ac-8619-4a8e-be58-518139069766",
   "metadata": {},
   "source": [
    "From these coefficients and intercept values we can derive the regression equation wiht the following equation:\n",
    "\n",
    "![https://i.gyazo.com/390fc5d4df3001d1616f0c629695c13c.png](https://i.gyazo.com/390fc5d4df3001d1616f0c629695c13c.png)\n",
    "\n",
    "Where  \n",
    "> *y* is the response variable  \n",
    "> *β* is a coefficient  \n",
    "> *x* is a explanatory variable  \n",
    "> *ε* is the intercept value"
   ]
  },
  {
   "cell_type": "code",
   "execution_count": 10,
   "id": "e552b647-a508-4f2d-ae99-63b06d658f0f",
   "metadata": {},
   "outputs": [
    {
     "name": "stdout",
     "output_type": "stream",
     "text": [
      "Alcohol = \n",
      "0.8505 * fixed acidity + \n",
      "0.1110 * volatile acidity + \n",
      "0.1465 * citric acid + \n",
      "0.3599 * residual sugar + \n",
      "-0.0376 * chlorides + \n",
      "-0.0569 * free sulfur dioxide + \n",
      "-0.0191 * total sulfur dioxide + \n",
      "-1.0846 * density + \n",
      "0.5676 * pH + \n",
      "0.1719 * sulphates + \n",
      "0.1863 * quality + \n",
      "10.402327523586672\n"
     ]
    }
   ],
   "source": [
    "# Regression equation would be:\n",
    "# y =\n",
    "equation = \"Alcohol = \\n\"\n",
    "pred_equation = 0\n",
    "for index, coef in enumerate(reg.coef_):\n",
    "    equation += f\"{coef:.4f} * {colnames[index]} + \\n\"\n",
    "    # βi * xi +\n",
    "    pred_equation += coef * train_features[colnames[index]]\n",
    "equation += f\"{reg.intercept_}\"\n",
    "# ε\n",
    "pred_equation += reg.intercept_\n",
    "\n",
    "# Print the equation\n",
    "print(equation)"
   ]
  },
  {
   "cell_type": "code",
   "execution_count": 11,
   "id": "991c59ca-a507-4f6f-9cf9-5751de0df9ad",
   "metadata": {},
   "outputs": [
    {
     "name": "stdout",
     "output_type": "stream",
     "text": [
      "Predictions using regression equation:\n",
      " 9.839379\n",
      "11.723638\n",
      " 9.469728\n",
      "11.257890\n",
      "10.280870\n",
      "11.397826\n",
      "10.422279\n",
      " 9.333363\n",
      "10.797792\n",
      " 9.768012\n"
     ]
    }
   ],
   "source": [
    "# Print ten top predictions with the regression equation,\n",
    "# that will be compared to the predictions from the function\n",
    "print (\"Predictions using regression equation:\")\n",
    "pred_equation = pred_equation.head(10)\n",
    "print (pred_equation.to_string(index=False))"
   ]
  },
  {
   "cell_type": "code",
   "execution_count": 12,
   "id": "c1e6f9ed-9040-4cda-afe8-3f72e4698221",
   "metadata": {},
   "outputs": [
    {
     "name": "stdout",
     "output_type": "stream",
     "text": [
      "Predictions using regression model function:\n",
      "9.839379\n",
      "11.723638\n",
      "9.469728\n",
      "11.25789\n",
      "10.28087\n",
      "11.397826\n",
      "10.422279\n",
      "9.333363\n",
      "10.797792\n",
      "9.768012\n"
     ]
    }
   ],
   "source": [
    "# Print ten top predictions from the function\n",
    "print (\"Predictions using regression model function:\")\n",
    "pred_labels = reg.predict(train_features)\n",
    "for index, predicted in enumerate(pred_labels):\n",
    "    if index == 10: break\n",
    "    print (round(predicted, 6))"
   ]
  },
  {
   "cell_type": "markdown",
   "id": "77c7dc77-02ef-4c7d-be4a-57ec929387de",
   "metadata": {},
   "source": [
    "We can see that the regression equation is correct, since it prints the same results as the prediction function form the sklearn regression model."
   ]
  },
  {
   "cell_type": "markdown",
   "id": "66de8553-af34-42c6-98c5-cd097469c242",
   "metadata": {},
   "source": [
    "## Part II\n",
    "\n",
    "What are the five most useful variables for estimating the trait values?"
   ]
  },
  {
   "cell_type": "code",
   "execution_count": 13,
   "id": "f5c5ce21-0997-4b7d-acca-39712578882c",
   "metadata": {},
   "outputs": [
    {
     "name": "stdout",
     "output_type": "stream",
     "text": [
      "       column name  coefficient\n",
      "7          density     1.084620\n",
      "0    fixed acidity     0.850459\n",
      "8               pH     0.567598\n",
      "3   residual sugar     0.359862\n",
      "10         quality     0.186255\n"
     ]
    }
   ],
   "source": [
    "mostUseful = pd.DataFrame()\n",
    "mostUseful[\"column name\"] = colnames\n",
    "mostUseful[\"coefficient\"] = np.abs(reg.coef_)\n",
    "mostUseful = mostUseful.sort_values('coefficient', ascending = False)\n",
    "print (mostUseful.head(5))"
   ]
  },
  {
   "cell_type": "markdown",
   "id": "03cbc4f6-3177-4f87-84b3-37bde2cc5b93",
   "metadata": {},
   "source": [
    "From the table above we can see that **density**, **fixed acidity**, **pH**, **residual sugar** and **quality** (in this order) are the most useful variables in estimating how much alcohol there is in a wine. Some of these values may be negative (like density), but big negative numbers affect the trait values as much as big positive numbers."
   ]
  },
  {
   "cell_type": "markdown",
   "id": "475af739-4073-49e2-aa6b-1c4089fee245",
   "metadata": {
    "tags": []
   },
   "source": [
    "## Part III\n",
    "\n",
    "Provide a validation-based error estimate for your model. As the data set is large, use\n",
    "split validation that divides the data set into separate training and testing sets. \n",
    "\n",
    "As we have already splittted the set into training and testing, lets use them here."
   ]
  },
  {
   "cell_type": "code",
   "execution_count": 14,
   "id": "79ac9a71-878d-4c35-a42c-61c0a2f26186",
   "metadata": {},
   "outputs": [],
   "source": [
    "pred_test_labels = reg.predict(test_features)"
   ]
  },
  {
   "cell_type": "markdown",
   "id": "d8f323ac-2d83-44ed-91b9-6cae2be58d22",
   "metadata": {},
   "source": [
    "Evaluating the model using the test set we created in Part I:"
   ]
  },
  {
   "cell_type": "code",
   "execution_count": 15,
   "id": "1b581998-7ff8-4193-9447-1986d481ce23",
   "metadata": {},
   "outputs": [
    {
     "name": "stdout",
     "output_type": "stream",
     "text": [
      "MSE on test set =  0.3162761286693083\n",
      "R2s on test set =  0.7222306986418854\n",
      "RMSE on test set =  0.5623843247009187\n",
      "RMSE on train set =  0.6062393869467696\n"
     ]
    }
   ],
   "source": [
    "mse_test = mean_squared_error(test_labels, pred_test_labels)\n",
    "r2s_test = r2_score(test_labels, pred_test_labels) \n",
    "print(\"MSE on test set = \", mse_test)\n",
    "print(\"R2s on test set = \", r2s_test)\n",
    "rmse_test = math.sqrt(mse_test)\n",
    "print(\"RMSE on test set = \", rmse_test)\n",
    "\n",
    "mse_train = mean_squared_error(train_labels, pred_labels)\n",
    "rmse_train = math.sqrt(mse_train)\n",
    "print(\"RMSE on train set = \", rmse_train)"
   ]
  },
  {
   "cell_type": "markdown",
   "id": "42d8657f-fc0d-4103-9bee-7a99a20fe0e5",
   "metadata": {},
   "source": [
    "The MSE value is relatively low, which is on the better side, since low values in MSE are good.\n",
    "\n",
    "The R2s value is also relatively high, which is on the better side, since high values in R2s are good. R2s is always between 0 and 1.\n",
    "\n",
    "It can be said that [lower RMSE values](https://stats.stackexchange.com/questions/56302/what-are-good-rmse-values) (between 0.2 and 0.5) show that the model can predict the data relatively accurately. We can also see that the RMSE is lower on test set than on the train set and the values don't vary too much from each other. This indicates that the model [is not overfitting](https://www.analyticsvidhya.com/blog/2021/08/performance-comparision-of-regularized-and-unregularized-regression-models/)."
   ]
  },
  {
   "cell_type": "code",
   "execution_count": 16,
   "id": "b47bda51-ddd3-40c3-a33c-1a2681f682ce",
   "metadata": {},
   "outputs": [
    {
     "data": {
      "text/plain": [
       "<Figure size 1440x720 with 0 Axes>"
      ]
     },
     "metadata": {},
     "output_type": "display_data"
    },
    {
     "data": {
      "image/png": "[encoded data removed]",
      "text/plain": [
       "<Figure size 1440x720 with 1 Axes>"
      ]
     },
     "metadata": {
      "needs_background": "light"
     },
     "output_type": "display_data"
    }
   ],
   "source": [
    "test_df = pd.concat([test_labels, pd.Series(pred_test_labels), pd.Series(test_labels - pred_test_labels)], axis=1)\n",
    "test_df.columns=[\"observed\", \"predicted\", \"residual\"]\n",
    "\n",
    "plt.figure()\n",
    "test_df.plot.scatter(x='observed', y='predicted')\n",
    "plt.plot(pred_test_labels, pred_test_labels, color=\"red\", linewidth=4)\n",
    "plt.grid()\n",
    "plt.show()"
   ]
  },
  {
   "cell_type": "code",
   "execution_count": null,
   "id": "ada179ed-b642-4df5-8594-a1896efeb6c7",
   "metadata": {},
   "outputs": [],
   "source": []
  }
 ],
 "metadata": {
  "kernelspec": {
   "display_name": "Python 3 (ipykernel)",
   "language": "python",
   "name": "python3"
  },
  "language_info": {
   "codemirror_mode": {
    "name": "ipython",
    "version": 3
   },
   "file_extension": ".py",
   "mimetype": "text/x-python",
   "name": "python",
   "nbconvert_exporter": "python",
   "pygments_lexer": "ipython3",
   "version": "3.9.7"
  }
 },
 "nbformat": 4,
 "nbformat_minor": 5
}
