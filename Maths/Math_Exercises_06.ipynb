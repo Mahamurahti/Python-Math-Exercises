{
 "cells": [
  {
   "cell_type": "code",
   "execution_count": 1,
   "id": "f195eb9e-93d8-419c-b90e-98da560f2f4e",
   "metadata": {},
   "outputs": [],
   "source": [
    "import numpy as np\n",
    "from matplotlib import pyplot as plt"
   ]
  },
  {
   "cell_type": "markdown",
   "id": "559cd95f-14e8-4c54-a6a1-226d4110bf1a",
   "metadata": {
    "tags": []
   },
   "source": [
    "# Exercise 3\n",
    "\n",
    "Fit a logistic regression model  \n",
    "y = 1 / (1 + e<sup>θ<sub>0</sub>+θ<sub>1</sub>x</sup>)  \n",
    "to the data\n",
    "\n",
    "|axis|1|2|3|4|5|6|7|8|9|10|\n",
    "|---|---|---|---|---|---|---|---|---|---|---|\n",
    "|x|1.1|4.1|2.7|3.9|7.1|1.3|9.7|0.7|3.4|6.0|\n",
    "|y|0|1|0|0|1|0|1|0|1|0|\n",
    "\n",
    "using the gradient descent method\n"
   ]
  },
  {
   "cell_type": "code",
   "execution_count": 2,
   "id": "1adf3eac-cc16-4ca4-bf10-85306119d6e7",
   "metadata": {},
   "outputs": [
    {
     "data": {
      "image/png": "[encoded data removed]",
      "text/plain": [
       "<Figure size 432x288 with 1 Axes>"
      ]
     },
     "metadata": {
      "needs_background": "light"
     },
     "output_type": "display_data"
    }
   ],
   "source": [
    "x = np.array([1.1, 4.1, 2.7, 3.9, 7.1, 1.3, 9.7, 0.7, 3.4, 6.0])\n",
    "y = np.array([0, 1, 0, 0, 1, 0, 1, 0, 1, 0])\n",
    "\n",
    "def coef(x, y): \n",
    "    n = np.size(x) \n",
    "    mx, my = np.mean(x), np.mean(y) \n",
    "\n",
    "    SSxy = np.sum(y * x) - n * my * mx \n",
    "    SSxx = np.sum(x * x) - n * mx * mx \n",
    "\n",
    "    theta1 = SSxy / SSxx \n",
    "    theta0 = my - theta1 * mx \n",
    "\n",
    "    return (theta0, theta1) \n",
    "\n",
    "\n",
    "plt.plot(x, y, 'o') \n",
    "theta0, theta1 = coef(x, y)\n",
    "y_pred = theta0 + theta1 * x\n",
    "\n",
    "plt.plot(x, y_pred) \n",
    "plt.show() "
   ]
  },
  {
   "cell_type": "markdown",
   "id": "1d0b1cc7-d13e-471f-b5ca-a1221763a764",
   "metadata": {},
   "source": [
    "# Exercise 4\n",
    "\n",
    "We have the following small network, where the weights are written\n",
    "beside the edges, and there are no bias terms. The values of the cells\n",
    "are stored in matrices A1, A2 and A3\n",
    "\n",
    "![https://i.gyazo.com/a4b829dbf7972d24ced6363d7f19c8a9.png](https://i.gyazo.com/a4b829dbf7972d24ced6363d7f19c8a9.png)"
   ]
  },
  {
   "cell_type": "code",
   "execution_count": 3,
   "id": "4abb4707-6382-4f9f-80c0-13a7493dd10a",
   "metadata": {},
   "outputs": [
    {
     "name": "stdout",
     "output_type": "stream",
     "text": [
      "[[13.4]\n",
      " [12.8]]\n",
      "[[43.44]\n",
      " [37.84]]\n"
     ]
    }
   ],
   "source": [
    "# a)\n",
    "A1 =  np.array([\n",
    "    [3],\n",
    "    [2],\n",
    "    [5],\n",
    "])\n",
    "\n",
    "W1 = np.array([\n",
    "    [1.1, 1.3, 1.5],\n",
    "    [0.1, 2.0, 1.7],\n",
    "])\n",
    "\n",
    "W2 = np.array([\n",
    "    [2.0, 1.3],\n",
    "    [1.2, 1.7],\n",
    "])\n",
    "\n",
    "A2 = W1.dot(A1)\n",
    "print (A2)\n",
    "\n",
    "A3 = W2.dot(A2)\n",
    "print (A3)"
   ]
  },
  {
   "cell_type": "code",
   "execution_count": 4,
   "id": "89294db6-dfe6-45e2-b751-6c1bd96f6e0d",
   "metadata": {},
   "outputs": [
    {
     "name": "stdout",
     "output_type": "stream",
     "text": [
      "[[0.99999848]\n",
      " [0.99999724]]\n",
      "[[0.96442858]\n",
      " [0.94784612]]\n"
     ]
    }
   ],
   "source": [
    "# b )\n",
    "def func(x):\n",
    "    return 1 / (1 + np.e**-x)\n",
    "\n",
    "A2 = func(W1.dot(A1))\n",
    "print (A2)\n",
    "\n",
    "A3 = func(W2.dot(A2))\n",
    "print (A3)"
   ]
  },
  {
   "cell_type": "code",
   "execution_count": null,
   "id": "0db811a8-245d-4ce1-b68c-9af0bad68821",
   "metadata": {},
   "outputs": [],
   "source": []
  }
 ],
 "metadata": {
  "kernelspec": {
   "display_name": "Python 3 (ipykernel)",
   "language": "python",
   "name": "python3"
  },
  "language_info": {
   "codemirror_mode": {
    "name": "ipython",
    "version": 3
   },
   "file_extension": ".py",
   "mimetype": "text/x-python",
   "name": "python",
   "nbconvert_exporter": "python",
   "pygments_lexer": "ipython3",
   "version": "3.9.7"
  }
 },
 "nbformat": 4,
 "nbformat_minor": 5
}
