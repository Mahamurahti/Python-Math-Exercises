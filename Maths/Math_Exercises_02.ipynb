{
 "cells": [
  {
   "cell_type": "code",
   "execution_count": 1,
   "id": "f195eb9e-93d8-419c-b90e-98da560f2f4e",
   "metadata": {},
   "outputs": [],
   "source": [
    "import numpy as np\n",
    "from matplotlib import pyplot as plt"
   ]
  },
  {
   "cell_type": "markdown",
   "id": "559cd95f-14e8-4c54-a6a1-226d4110bf1a",
   "metadata": {},
   "source": [
    "# Exercise 1\n",
    "\n",
    "Create a matrix using np.ones, np.arange and np.concatenate."
   ]
  },
  {
   "cell_type": "code",
   "execution_count": 2,
   "id": "da6208ac-8798-481e-ab4c-73bb66aebaeb",
   "metadata": {},
   "outputs": [
    {
     "name": "stdout",
     "output_type": "stream",
     "text": [
      "[[  1   1   1   1   1]\n",
      " [  1   2   4   8  16]\n",
      " [  1   3   9  27  81]\n",
      " [  1   4  16  64 256]\n",
      " [  1   5  25 125 625]]\n"
     ]
    }
   ],
   "source": [
    "# Define matrix rows\n",
    "ones = np.ones((5,), dtype=int)\n",
    "oneToFive = np.arange(5) + 1\n",
    "oneToFiveSquared = (np.arange(5) + 1) ** 2\n",
    "oneToFiveCubed = (np.arange(5) + 1) ** 3\n",
    "oneToFiveQuadrupled = (np.arange(5) + 1) ** 4\n",
    "\n",
    "# Concatenate all the rows\n",
    "X = np.concatenate((ones, oneToFive, oneToFiveSquared, oneToFiveCubed, oneToFiveQuadrupled))\n",
    "# Reshape the matrix into a square matrix of type 5x5\n",
    "X = X.reshape((5,5))\n",
    "# Transpose the rows into columns\n",
    "X = X.T\n",
    "\n",
    "print (X)"
   ]
  },
  {
   "cell_type": "markdown",
   "id": "aad1cb15-9683-414b-9ecf-fd658659c589",
   "metadata": {},
   "source": [
    "# Exercise 2\n",
    "\n",
    "Create vectors and plot points as well as regression line."
   ]
  },
  {
   "cell_type": "code",
   "execution_count": 3,
   "id": "16a1bd33-ecc3-4485-9e8b-d56e0358ba8b",
   "metadata": {},
   "outputs": [
    {
     "data": {
      "text/plain": [
       "[<matplotlib.lines.Line2D at 0x25c3db12bb0>]"
      ]
     },
     "execution_count": 3,
     "metadata": {},
     "output_type": "execute_result"
    },
    {
     "data": {
      "image/png": "[encoded data removed]",
      "text/plain": [
       "<Figure size 432x288 with 1 Axes>"
      ]
     },
     "metadata": {
      "needs_background": "light"
     },
     "output_type": "display_data"
    }
   ],
   "source": [
    "x = np.array([np.arange(10) + 1])\n",
    "x = x.reshape((10,1))\n",
    "y = np.array([\n",
    "    [14],\n",
    "    [12],\n",
    "    [34],\n",
    "    [24],\n",
    "    [43],\n",
    "    [38],\n",
    "    [41],\n",
    "    [57],\n",
    "    [55],\n",
    "    [50]\n",
    "])\n",
    "y = y.reshape((10,1))\n",
    "\n",
    "# Design vector\n",
    "X = np.concatenate((np.ones((10,1)), x), axis=1)\n",
    "\n",
    "# M = (X^T X)^−1 X^T Y,\n",
    "M = np.linalg.inv(np.dot(X.T, X)).dot(X.T).dot(y)\n",
    "\n",
    "z = X.dot(M)\n",
    "\n",
    "plt.plot(x, y, \".\")\n",
    "plt.plot(x, z)"
   ]
  },
  {
   "cell_type": "markdown",
   "id": "270a3000-9a90-4cca-b086-d763eea527cf",
   "metadata": {},
   "source": [
    "# Exercise 3\n",
    "\n",
    "Fit a second order polynomial to the data in Exercise 2. Plot the polynomial and the data in the same figure."
   ]
  },
  {
   "cell_type": "code",
   "execution_count": 4,
   "id": "d1855a05-ac5e-47e7-b13e-0bee8d754d7d",
   "metadata": {},
   "outputs": [
    {
     "data": {
      "image/png": "[encoded data removed]",
      "text/plain": [
       "<Figure size 432x288 with 1 Axes>"
      ]
     },
     "metadata": {
      "needs_background": "light"
     },
     "output_type": "display_data"
    }
   ],
   "source": [
    "xx = np.linspace(1, 10, 1000)\n",
    "xx = xx.reshape(1000,1)\n",
    "\n",
    "X = np.concatenate((np.ones((10,1)), x, x**2), axis=1)\n",
    "XX = np.concatenate((np.ones((1000,1)), xx, xx**2), axis=1)\n",
    "\n",
    "M = np.linalg.inv(np.dot(X.T, X)).dot(X.T).dot(y)\n",
    "\n",
    "z = XX.dot(M)\n",
    "\n",
    "plt.plot(x, y, \".\")\n",
    "plt.plot(xx, z)\n",
    "plt.show()"
   ]
  },
  {
   "cell_type": "markdown",
   "id": "b94259d0-815b-4c36-94aa-c8cf8b28fdb3",
   "metadata": {},
   "source": [
    "# Exercise 4\n",
    "\n",
    "Use the Python command np.polyfit to fit a higher order polynomial to the data and plot the polynomial."
   ]
  },
  {
   "cell_type": "code",
   "execution_count": 5,
   "id": "22574a65-7b3f-4e8c-a827-aaf7253dd0d2",
   "metadata": {},
   "outputs": [
    {
     "data": {
      "image/png": "[encoded data removed]",
      "text/plain": [
       "<Figure size 432x288 with 1 Axes>"
      ]
     },
     "metadata": {
      "needs_background": "light"
     },
     "output_type": "display_data"
    }
   ],
   "source": [
    "x = x.flatten()\n",
    "y = y.flatten()\n",
    "\n",
    "# 9th polynomial fits the data perfectly,\n",
    "# adding more polynomials turns the graphs\n",
    "# end int odisaster, also print error\n",
    "coefficient = np.polyfit(x, y, 9)\n",
    "poly = np.poly1d(coefficient)\n",
    "yy = poly(xx)\n",
    "\n",
    "plt.plot(x, y, \".\")\n",
    "plt.plot(xx, yy)\n",
    "plt.show()"
   ]
  },
  {
   "cell_type": "code",
   "execution_count": null,
   "id": "ef26e9ba-58e9-4981-a27e-7a217b01c82e",
   "metadata": {},
   "outputs": [],
   "source": []
  }
 ],
 "metadata": {
  "kernelspec": {
   "display_name": "Python 3 (ipykernel)",
   "language": "python",
   "name": "python3"
  },
  "language_info": {
   "codemirror_mode": {
    "name": "ipython",
    "version": 3
   },
   "file_extension": ".py",
   "mimetype": "text/x-python",
   "name": "python",
   "nbconvert_exporter": "python",
   "pygments_lexer": "ipython3",
   "version": "3.9.7"
  }
 },
 "nbformat": 4,
 "nbformat_minor": 5
}
