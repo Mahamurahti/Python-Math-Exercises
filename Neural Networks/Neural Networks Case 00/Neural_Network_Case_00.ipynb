{
 "cells": [
  {
   "cell_type": "markdown",
   "metadata": {},
   "source": [
    "# Case 0 - Learning Basics\n",
    "Eric Keränen<br>\n",
    "Last edited: 12.1.2022<br>\n",
    "Neural Networks for Health Technology Applications<br>\n",
    "[Helsinki Metropolia University of Applied Sciences](http://www.metropolia.fi/en/)<br>"
   ]
  },
  {
   "cell_type": "markdown",
   "metadata": {},
   "source": [
    "# Setup"
   ]
  },
  {
   "cell_type": "code",
   "execution_count": 81,
   "metadata": {},
   "outputs": [
    {
     "name": "stdout",
     "output_type": "stream",
     "text": [
      "Populating the interactive namespace from numpy and matplotlib\n",
      "Tensorflow version 2.7.0\n"
     ]
    }
   ],
   "source": [
    "# Required libraries\n",
    "%pylab inline\n",
    "import pandas as pd\n",
    "import tensorflow as tf\n",
    "import matplotlib.pyplot as plt\n",
    "%matplotlib inline\n",
    "from tensorflow.keras.layers import Dense\n",
    "\n",
    "%config IPCompleter.greedy=True\n",
    "\n",
    "print(f'Tensorflow version {tf.__version__}')"
   ]
  },
  {
   "cell_type": "markdown",
   "metadata": {},
   "source": [
    "More info on [IPCompleter](https://stackoverflow.com/questions/64263620/what-is-the-purpose-of-config-ipcompleter-greedy-true)"
   ]
  },
  {
   "cell_type": "markdown",
   "metadata": {},
   "source": [
    "# Background"
   ]
  },
  {
   "cell_type": "markdown",
   "metadata": {},
   "source": [
    "The aim of this Notebook is to find the simplest neural network model than can learn in the least number of epochs to classify the black and white handwritten digits at an accuracy rate of 0.970."
   ]
  },
  {
   "cell_type": "markdown",
   "metadata": {},
   "source": [
    "# Data"
   ]
  },
  {
   "cell_type": "markdown",
   "metadata": {},
   "source": [
    "The data was retrieved from keras datasets. The dataset consists of grayscale images of 10 digits with the digits being 0,1,2,3,4,5,6,7,8 and 9. The dataset can be found from [keras](https://keras.io/api/datasets/mnist/) website or the [original creators](http://yann.lecun.com/exdb/mnist/).</br>\n",
    "\n",
    "Dataset has a training set of 60 000 images and test set of 10 000 images."
   ]
  },
  {
   "cell_type": "code",
   "execution_count": 82,
   "metadata": {},
   "outputs": [],
   "source": [
    "(train_images, train_labels), (test_images, test_labels) = tf.keras.datasets.mnist.load_data()\n",
    "\n",
    "train_data = train_images.reshape((60000,28*28))\n",
    "train_data = train_data.astype('float32')\n",
    "train_data /= 255\n",
    "\n",
    "test_data = test_images.reshape((10000,28*28))\n",
    "test_data = test_data.astype('float32')\n",
    "test_data /= 255\n",
    "\n",
    "train_labels = tf.keras.utils.to_categorical(train_labels)\n",
    "test_labels = tf.keras.utils.to_categorical(test_labels)"
   ]
  },
  {
   "cell_type": "markdown",
   "metadata": {},
   "source": [
    "# Model and training"
   ]
  },
  {
   "cell_type": "markdown",
   "metadata": {},
   "source": [
    "The following model was used:"
   ]
  },
  {
   "cell_type": "code",
   "execution_count": 105,
   "metadata": {},
   "outputs": [
    {
     "name": "stdout",
     "output_type": "stream",
     "text": [
      "Epoch 1/3\n",
      "469/469 [==============================] - 1s 1ms/step - loss: 0.3106 - accuracy: 0.9151\n",
      "Epoch 2/3\n",
      "469/469 [==============================] - 1s 1ms/step - loss: 0.1429 - accuracy: 0.9587\n",
      "Epoch 3/3\n",
      "469/469 [==============================] - 1s 1ms/step - loss: 0.1008 - accuracy: 0.9708\n"
     ]
    },
    {
     "data": {
      "text/plain": [
       "<keras.callbacks.History at 0x20bb176df10>"
      ]
     },
     "execution_count": 105,
     "metadata": {},
     "output_type": "execute_result"
    }
   ],
   "source": [
    "network = tf.keras.models.Sequential()\n",
    "\n",
    "# Hidden Layer\n",
    "network.add(Dense(166, activation = 'relu',input_shape=(28*28,)))\n",
    "\n",
    "# Output Layer\n",
    "network.add(Dense(10, activation = 'softmax'))\n",
    "\n",
    "network.compile(optimizer = 'rmsprop',\n",
    "               loss = 'categorical_crossentropy',\n",
    "               metrics = ['accuracy'])\n",
    "\n",
    "history = network.fit(train_data, train_labels, epochs = 3, batch_size = 128)\n",
    "history"
   ]
  },
  {
   "cell_type": "markdown",
   "metadata": {},
   "source": [
    "I found out that the model can also work with a lower amount of neurons and a higher amount of epochs. There is no one answer and the \"balance\" between these two values determine quite much of the accuracy. I believe the one hidden layer is enough for this model."
   ]
  },
  {
   "cell_type": "markdown",
   "metadata": {},
   "source": [
    "# Results and Discussion"
   ]
  },
  {
   "cell_type": "markdown",
   "metadata": {},
   "source": [
    "The simplest neural network that I found, which can learn in the least number of epochs to classify the black and white handwritten digits with an accuracy of at least 0.970, is a neural network consisting of <strong>one hidden layer</strong>, <strong>166 neurons</strong> and <strong>three epochs</strong>.</br>\n",
    "\n",
    "These results may vary a little bit since sometimes you can get above 0.970. You can see this variance when you run the exact same code multiple times, the accuracy changes."
   ]
  },
  {
   "cell_type": "code",
   "execution_count": 108,
   "metadata": {},
   "outputs": [
    {
     "name": "stdout",
     "output_type": "stream",
     "text": [
      "Test loss: 0.0910\n",
      "Test accuracy: 0.9735\n"
     ]
    }
   ],
   "source": [
    "test_loss, test_acc = network.evaluate(test_data, test_labels, verbose = 0)\n",
    "\n",
    "print (f'Test loss: {test_loss:.4f}')\n",
    "print (f'Test accuracy: {test_acc:.4f}')"
   ]
  },
  {
   "cell_type": "code",
   "execution_count": 70,
   "metadata": {
    "tags": []
   },
   "outputs": [
    {
     "data": {
      "image/png": "[encoded data removed]",
      "text/plain": [
       "<Figure size 432x288 with 1 Axes>"
      ]
     },
     "metadata": {
      "needs_background": "light"
     },
     "output_type": "display_data"
    }
   ],
   "source": [
    "plt.plot(history.history['accuracy'])\n",
    "plt.title('Model Accuracy')\n",
    "plt.ylabel('Accuracy')\n",
    "plt.xlabel('Epoch')\n",
    "plt.legend(['train'], loc='upper left')\n",
    "plt.show()"
   ]
  },
  {
   "cell_type": "markdown",
   "metadata": {},
   "source": [
    "# Conclusions"
   ]
  },
  {
   "cell_type": "markdown",
   "metadata": {},
   "source": [
    "To summarize I found out that to achieve an accuracy of 0.970 in the current dataset requires one hidden layer, 166 neurons and three epochs at minimum according to my tests. The results may vary since running the same code multiple times amount to different accuracies. I believe the accuracy is mainly determined by epochs and neurons. Hidden layers, batch sizes and activation also affect the accuracy, but the exercise mainly focused on hidden layers, neurons and epochs."
   ]
  }
 ],
 "metadata": {
  "kernelspec": {
   "display_name": "Python 3 (ipykernel)",
   "language": "python",
   "name": "python3"
  },
  "language_info": {
   "codemirror_mode": {
    "name": "ipython",
    "version": 3
   },
   "file_extension": ".py",
   "mimetype": "text/x-python",
   "name": "python",
   "nbconvert_exporter": "python",
   "pygments_lexer": "ipython3",
   "version": "3.9.7"
  },
  "toc": {
   "base_numbering": 1,
   "nav_menu": {},
   "number_sections": true,
   "sideBar": true,
   "skip_h1_title": false,
   "title_cell": "Table of Contents",
   "title_sidebar": "Contents",
   "toc_cell": true,
   "toc_position": {},
   "toc_section_display": true,
   "toc_window_display": false
  }
 },
 "nbformat": 4,
 "nbformat_minor": 4
}
