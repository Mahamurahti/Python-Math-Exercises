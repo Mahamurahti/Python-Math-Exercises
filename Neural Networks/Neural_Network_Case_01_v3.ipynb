{
 "cells": [
  {
   "cell_type": "markdown",
   "id": "84d42c72-f82d-45c9-bd41-315e46aeb01d",
   "metadata": {},
   "source": [
    "# Case 1. Heart Disease Classification\n",
    "**Neural Networks for Machine Learning Applications**<br>\n",
    "28.1.2022<br>\n",
    "Team G03: Eric Keränen - Samuel Aitamaa - Teemu Luhtanen<br>\n",
    "Metropolia University of Applied Sciences"
   ]
  },
  {
   "cell_type": "markdown",
   "id": "cb1318f7-7ad8-4794-9f71-21446af714f2",
   "metadata": {},
   "source": [
    "## 1. Introduction\n",
    "\n",
    "This report shows the data preprocessing, datasplitting, model creation and options, model training and displaying the results of a neural network based on [Heart Disease Health Indicators Dataset (Kaggle)](https://www.kaggle.com/alexteboul/heart-disease-health-indicators-dataset).\n",
    "\n",
    "The main objectives of this project is to predict the presence of a heart disease, with the simplest, fastest and smallest network as possible, while aiming to <u>**high sensitivity without losing specificity**</u>."
   ]
  },
  {
   "cell_type": "markdown",
   "id": "798f751a-0465-4fda-89a9-2779687e7f64",
   "metadata": {},
   "source": [
    "## 2. Setup\n",
    "\n",
    "We used libraries, such as matplotlib, pandas, seaborn, tensorflow, sklearn and keras:"
   ]
  },
  {
   "cell_type": "code",
   "execution_count": 1,
   "id": "8a976a0e-c363-48db-a8c8-44771a4ae546",
   "metadata": {},
   "outputs": [
    {
     "name": "stdout",
     "output_type": "stream",
     "text": [
      "Populating the interactive namespace from numpy and matplotlib\n",
      "Tensorflow version: 2.7.0\n"
     ]
    }
   ],
   "source": [
    "# Import libraries\n",
    "%pylab inline\n",
    "import time\n",
    "import pandas as pd\n",
    "import seaborn as sns\n",
    "import tensorflow as tf\n",
    "\n",
    "# Import functions\n",
    "from sklearn.metrics import classification_report, confusion_matrix\n",
    "from sklearn.model_selection import train_test_split as split\n",
    "from tensorflow.keras import models, layers, losses, metrics, optimizers\n",
    "\n",
    "# Set the size of plots to a large size\n",
    "plt.rcParams[\"figure.figsize\"] = (20,10)\n",
    "\n",
    "# Tensorflow version number\n",
    "print(f\"Tensorflow version: {tf.__version__}\")"
   ]
  },
  {
   "cell_type": "markdown",
   "id": "5c975623-3a9b-4bf9-847e-4a2c0f0bd0c3",
   "metadata": {},
   "source": [
    "## 3. Dataset\n",
    "\n",
    "> \"Heart Disease is among the most prevalent chronic diseases in the United States, impacting millions of Americans each year and exerting a significant financial burden on the economy. In the United States alone, heart disease claims roughly 647,000 lives each year — making it the leading cause of death. The buildup of plaques inside larger coronary arteries, molecular changes associated with aging, chronic inflammation, high blood pressure, and diabetes are all causes of and risk factors for heart disease.\"  \n",
    "> [Heart Disease Health Indicators](https://www.kaggle.com/alexteboul/heart-disease-health-indicators-dataset)\n",
    "\n",
    "This dataset consists of 253 679 diagnoses of heart diseases (1 = has a diagnose, 0 = doesn't have) and 21 indicators as floating point numbers for each diagnose, such as blood pressure, cholesterol and age. These indicators are used to train, validate and test the model of our choosing based on the diagnoses.\n",
    "\n",
    "### 3.1 Importing the dataset\n",
    "\n",
    "The dataset will be read from a csv-file. We specify that we see question marks (?) as missing values with a <code>na_values</code>-parameter."
   ]
  },
  {
   "cell_type": "code",
   "execution_count": 2,
   "id": "86c36f2f-b33c-478a-9ab5-19757a9bc82f",
   "metadata": {},
   "outputs": [],
   "source": [
    "df = pd.read_csv(\"heart_disease_health_indicators.csv\", na_values = \"?\")"
   ]
  },
  {
   "cell_type": "markdown",
   "id": "b29ef173-84bf-42c9-b0d5-e2f436fc4ad3",
   "metadata": {},
   "source": [
    "### 3.2 Exlopring the dataset"
   ]
  },
  {
   "cell_type": "code",
   "execution_count": 3,
   "id": "f8518d82-954f-47ad-a7d3-ac1bd10a9df1",
   "metadata": {},
   "outputs": [
    {
     "data": {
      "text/html": [
       "<div>\n",
       "<style scoped>\n",
       "    .dataframe tbody tr th:only-of-type {\n",
       "        vertical-align: middle;\n",
       "    }\n",
       "\n",
       "    .dataframe tbody tr th {\n",
       "        vertical-align: top;\n",
       "    }\n",
       "\n",
       "    .dataframe thead th {\n",
       "        text-align: right;\n",
       "    }\n",
       "</style>\n",
       "<table border=\"1\" class=\"dataframe\">\n",
       "  <thead>\n",
       "    <tr style=\"text-align: right;\">\n",
       "      <th></th>\n",
       "      <th>HeartDiseaseorAttack</th>\n",
       "      <th>HighBP</th>\n",
       "      <th>HighChol</th>\n",
       "      <th>CholCheck</th>\n",
       "      <th>BMI</th>\n",
       "      <th>Smoker</th>\n",
       "      <th>Stroke</th>\n",
       "      <th>Diabetes</th>\n",
       "      <th>PhysActivity</th>\n",
       "      <th>Fruits</th>\n",
       "      <th>...</th>\n",
       "      <th>AnyHealthcare</th>\n",
       "      <th>NoDocbcCost</th>\n",
       "      <th>GenHlth</th>\n",
       "      <th>MentHlth</th>\n",
       "      <th>PhysHlth</th>\n",
       "      <th>DiffWalk</th>\n",
       "      <th>Sex</th>\n",
       "      <th>Age</th>\n",
       "      <th>Education</th>\n",
       "      <th>Income</th>\n",
       "    </tr>\n",
       "  </thead>\n",
       "  <tbody>\n",
       "    <tr>\n",
       "      <th>count</th>\n",
       "      <td>253680.00</td>\n",
       "      <td>253680.00</td>\n",
       "      <td>253680.00</td>\n",
       "      <td>253680.00</td>\n",
       "      <td>253680.00</td>\n",
       "      <td>253680.00</td>\n",
       "      <td>253680.00</td>\n",
       "      <td>253680.0</td>\n",
       "      <td>253680.00</td>\n",
       "      <td>253680.00</td>\n",
       "      <td>...</td>\n",
       "      <td>253680.00</td>\n",
       "      <td>253680.00</td>\n",
       "      <td>253680.00</td>\n",
       "      <td>253680.00</td>\n",
       "      <td>253680.00</td>\n",
       "      <td>253680.00</td>\n",
       "      <td>253680.00</td>\n",
       "      <td>253680.00</td>\n",
       "      <td>253680.00</td>\n",
       "      <td>253680.00</td>\n",
       "    </tr>\n",
       "    <tr>\n",
       "      <th>mean</th>\n",
       "      <td>0.09</td>\n",
       "      <td>0.43</td>\n",
       "      <td>0.42</td>\n",
       "      <td>0.96</td>\n",
       "      <td>28.38</td>\n",
       "      <td>0.44</td>\n",
       "      <td>0.04</td>\n",
       "      <td>0.3</td>\n",
       "      <td>0.76</td>\n",
       "      <td>0.63</td>\n",
       "      <td>...</td>\n",
       "      <td>0.95</td>\n",
       "      <td>0.08</td>\n",
       "      <td>2.51</td>\n",
       "      <td>3.18</td>\n",
       "      <td>4.24</td>\n",
       "      <td>0.17</td>\n",
       "      <td>0.44</td>\n",
       "      <td>8.03</td>\n",
       "      <td>5.05</td>\n",
       "      <td>6.05</td>\n",
       "    </tr>\n",
       "    <tr>\n",
       "      <th>std</th>\n",
       "      <td>0.29</td>\n",
       "      <td>0.49</td>\n",
       "      <td>0.49</td>\n",
       "      <td>0.19</td>\n",
       "      <td>6.61</td>\n",
       "      <td>0.50</td>\n",
       "      <td>0.20</td>\n",
       "      <td>0.7</td>\n",
       "      <td>0.43</td>\n",
       "      <td>0.48</td>\n",
       "      <td>...</td>\n",
       "      <td>0.22</td>\n",
       "      <td>0.28</td>\n",
       "      <td>1.07</td>\n",
       "      <td>7.41</td>\n",
       "      <td>8.72</td>\n",
       "      <td>0.37</td>\n",
       "      <td>0.50</td>\n",
       "      <td>3.05</td>\n",
       "      <td>0.99</td>\n",
       "      <td>2.07</td>\n",
       "    </tr>\n",
       "    <tr>\n",
       "      <th>min</th>\n",
       "      <td>0.00</td>\n",
       "      <td>0.00</td>\n",
       "      <td>0.00</td>\n",
       "      <td>0.00</td>\n",
       "      <td>12.00</td>\n",
       "      <td>0.00</td>\n",
       "      <td>0.00</td>\n",
       "      <td>0.0</td>\n",
       "      <td>0.00</td>\n",
       "      <td>0.00</td>\n",
       "      <td>...</td>\n",
       "      <td>0.00</td>\n",
       "      <td>0.00</td>\n",
       "      <td>1.00</td>\n",
       "      <td>0.00</td>\n",
       "      <td>0.00</td>\n",
       "      <td>0.00</td>\n",
       "      <td>0.00</td>\n",
       "      <td>1.00</td>\n",
       "      <td>1.00</td>\n",
       "      <td>1.00</td>\n",
       "    </tr>\n",
       "    <tr>\n",
       "      <th>25%</th>\n",
       "      <td>0.00</td>\n",
       "      <td>0.00</td>\n",
       "      <td>0.00</td>\n",
       "      <td>1.00</td>\n",
       "      <td>24.00</td>\n",
       "      <td>0.00</td>\n",
       "      <td>0.00</td>\n",
       "      <td>0.0</td>\n",
       "      <td>1.00</td>\n",
       "      <td>0.00</td>\n",
       "      <td>...</td>\n",
       "      <td>1.00</td>\n",
       "      <td>0.00</td>\n",
       "      <td>2.00</td>\n",
       "      <td>0.00</td>\n",
       "      <td>0.00</td>\n",
       "      <td>0.00</td>\n",
       "      <td>0.00</td>\n",
       "      <td>6.00</td>\n",
       "      <td>4.00</td>\n",
       "      <td>5.00</td>\n",
       "    </tr>\n",
       "    <tr>\n",
       "      <th>50%</th>\n",
       "      <td>0.00</td>\n",
       "      <td>0.00</td>\n",
       "      <td>0.00</td>\n",
       "      <td>1.00</td>\n",
       "      <td>27.00</td>\n",
       "      <td>0.00</td>\n",
       "      <td>0.00</td>\n",
       "      <td>0.0</td>\n",
       "      <td>1.00</td>\n",
       "      <td>1.00</td>\n",
       "      <td>...</td>\n",
       "      <td>1.00</td>\n",
       "      <td>0.00</td>\n",
       "      <td>2.00</td>\n",
       "      <td>0.00</td>\n",
       "      <td>0.00</td>\n",
       "      <td>0.00</td>\n",
       "      <td>0.00</td>\n",
       "      <td>8.00</td>\n",
       "      <td>5.00</td>\n",
       "      <td>7.00</td>\n",
       "    </tr>\n",
       "    <tr>\n",
       "      <th>75%</th>\n",
       "      <td>0.00</td>\n",
       "      <td>1.00</td>\n",
       "      <td>1.00</td>\n",
       "      <td>1.00</td>\n",
       "      <td>31.00</td>\n",
       "      <td>1.00</td>\n",
       "      <td>0.00</td>\n",
       "      <td>0.0</td>\n",
       "      <td>1.00</td>\n",
       "      <td>1.00</td>\n",
       "      <td>...</td>\n",
       "      <td>1.00</td>\n",
       "      <td>0.00</td>\n",
       "      <td>3.00</td>\n",
       "      <td>2.00</td>\n",
       "      <td>3.00</td>\n",
       "      <td>0.00</td>\n",
       "      <td>1.00</td>\n",
       "      <td>10.00</td>\n",
       "      <td>6.00</td>\n",
       "      <td>8.00</td>\n",
       "    </tr>\n",
       "    <tr>\n",
       "      <th>max</th>\n",
       "      <td>1.00</td>\n",
       "      <td>1.00</td>\n",
       "      <td>1.00</td>\n",
       "      <td>1.00</td>\n",
       "      <td>98.00</td>\n",
       "      <td>1.00</td>\n",
       "      <td>1.00</td>\n",
       "      <td>2.0</td>\n",
       "      <td>1.00</td>\n",
       "      <td>1.00</td>\n",
       "      <td>...</td>\n",
       "      <td>1.00</td>\n",
       "      <td>1.00</td>\n",
       "      <td>5.00</td>\n",
       "      <td>30.00</td>\n",
       "      <td>30.00</td>\n",
       "      <td>1.00</td>\n",
       "      <td>1.00</td>\n",
       "      <td>13.00</td>\n",
       "      <td>6.00</td>\n",
       "      <td>8.00</td>\n",
       "    </tr>\n",
       "  </tbody>\n",
       "</table>\n",
       "<p>8 rows × 22 columns</p>\n",
       "</div>"
      ],
      "text/plain": [
       "       HeartDiseaseorAttack     HighBP   HighChol  CholCheck        BMI  \\\n",
       "count             253680.00  253680.00  253680.00  253680.00  253680.00   \n",
       "mean                   0.09       0.43       0.42       0.96      28.38   \n",
       "std                    0.29       0.49       0.49       0.19       6.61   \n",
       "min                    0.00       0.00       0.00       0.00      12.00   \n",
       "25%                    0.00       0.00       0.00       1.00      24.00   \n",
       "50%                    0.00       0.00       0.00       1.00      27.00   \n",
       "75%                    0.00       1.00       1.00       1.00      31.00   \n",
       "max                    1.00       1.00       1.00       1.00      98.00   \n",
       "\n",
       "          Smoker     Stroke  Diabetes  PhysActivity     Fruits  ...  \\\n",
       "count  253680.00  253680.00  253680.0     253680.00  253680.00  ...   \n",
       "mean        0.44       0.04       0.3          0.76       0.63  ...   \n",
       "std         0.50       0.20       0.7          0.43       0.48  ...   \n",
       "min         0.00       0.00       0.0          0.00       0.00  ...   \n",
       "25%         0.00       0.00       0.0          1.00       0.00  ...   \n",
       "50%         0.00       0.00       0.0          1.00       1.00  ...   \n",
       "75%         1.00       0.00       0.0          1.00       1.00  ...   \n",
       "max         1.00       1.00       2.0          1.00       1.00  ...   \n",
       "\n",
       "       AnyHealthcare  NoDocbcCost    GenHlth   MentHlth   PhysHlth   DiffWalk  \\\n",
       "count      253680.00    253680.00  253680.00  253680.00  253680.00  253680.00   \n",
       "mean            0.95         0.08       2.51       3.18       4.24       0.17   \n",
       "std             0.22         0.28       1.07       7.41       8.72       0.37   \n",
       "min             0.00         0.00       1.00       0.00       0.00       0.00   \n",
       "25%             1.00         0.00       2.00       0.00       0.00       0.00   \n",
       "50%             1.00         0.00       2.00       0.00       0.00       0.00   \n",
       "75%             1.00         0.00       3.00       2.00       3.00       0.00   \n",
       "max             1.00         1.00       5.00      30.00      30.00       1.00   \n",
       "\n",
       "             Sex        Age  Education     Income  \n",
       "count  253680.00  253680.00  253680.00  253680.00  \n",
       "mean        0.44       8.03       5.05       6.05  \n",
       "std         0.50       3.05       0.99       2.07  \n",
       "min         0.00       1.00       1.00       1.00  \n",
       "25%         0.00       6.00       4.00       5.00  \n",
       "50%         0.00       8.00       5.00       7.00  \n",
       "75%         1.00      10.00       6.00       8.00  \n",
       "max         1.00      13.00       6.00       8.00  \n",
       "\n",
       "[8 rows x 22 columns]"
      ]
     },
     "execution_count": 3,
     "metadata": {},
     "output_type": "execute_result"
    }
   ],
   "source": [
    "df.describe().round(2)"
   ]
  },
  {
   "cell_type": "markdown",
   "id": "0dbab075-6078-4b54-a0fb-4f3ef26ef800",
   "metadata": {},
   "source": [
    "As we can see from the data in the table above, all of the 21 indicators / explanatory variables are numerical values. This means at least that no conversion to numerical data is needed. Most of the values differ from each other quite a lot (e.g. BMI max value is 98 and HighChol max value is 1) so normalization would be handy so that every numerical value is easily comparable to each other. We can also see from the counts of the features that all have the same amount, this is a good indicators there is no extra or missing columns in the data."
   ]
  },
  {
   "cell_type": "markdown",
   "id": "39090124-337a-46f5-9f42-cd512f6878e6",
   "metadata": {},
   "source": [
    "## 4. Preprocessing\n",
    "\n",
    "Preprocessing datasets is an essential part of any neural network project. Cleaning and transforming the data is to remove outliers and standardize the data so that it takes a form that can be easily used to create a model.\n",
    "\n",
    "### 4.1 Missing values and splitting labels from features\n",
    "\n",
    "We preprocess the data by using the <code>fillna()</code> function, that fills all 'not applicable' values with zero and does it so \"in place\" (meaning it will not create a new data object, but modify the existing one). In the dataset section we also do a little preprocess function by replacing all '?' values with 'not applicable' values by using the <code>na_values = '?'</code> parameter.\n",
    "\n",
    "No conversion to numerical data was needed, since all data was numerical."
   ]
  },
  {
   "cell_type": "code",
   "execution_count": 4,
   "id": "a55a5931-2e87-456d-b597-b11440fea6d2",
   "metadata": {},
   "outputs": [],
   "source": [
    "df.fillna(0, inplace = True)"
   ]
  },
  {
   "cell_type": "markdown",
   "id": "7f6a7ae4-eadb-4808-b7bd-0f7431f30091",
   "metadata": {},
   "source": [
    "After filling the missing values, we extract the labels (correct evaluations) into a <code>labels</code>-variable. We also extract the data itself from the labels, meaning the features that determine the evaluation, into a <code>features</code>-variable."
   ]
  },
  {
   "cell_type": "code",
   "execution_count": 5,
   "id": "b747ad14-8d50-453f-82b7-dcc761287ba9",
   "metadata": {},
   "outputs": [],
   "source": [
    "# Extract labels and features from the original data\n",
    "labels = df[\"HeartDiseaseorAttack\"]\n",
    "features = df.drop(\"HeartDiseaseorAttack\", axis = 1)"
   ]
  },
  {
   "cell_type": "markdown",
   "id": "8efb1cf3-f30d-4455-8a84-fa65f728b715",
   "metadata": {},
   "source": [
    "### 4.1 Splitting the dataset\n",
    "\n",
    "With <code>labels</code> and <code>features</code> we split the original dataset into a train dataset, validation dataset and test dataset. The dataset is split with the 80 / 20 rule of thumb. With this rule of thumb we first split the original data into a train dataset and test dataset with 80 % going to training and 20 % going to testing. After this we repeat the procedure and split the training data even further with the 80 / 20 rule of thumb. Now the training dataset (80 % of the original dataset) will be split into a training set and validation set with 80 % going to training and 20 % going to validation. This means that the original dataset will be split as follows:\n",
    "\n",
    "|Set|Amount allocated|\n",
    "|---|:---:|\n",
    "|Training set|64 %|\n",
    "|Validation set|16 %|\n",
    "|Test set|20 %|\n",
    "\n",
    "The test dataset will be used when evaluating the final performance of the model trained with the training dataset and validated with the validation dataset."
   ]
  },
  {
   "cell_type": "code",
   "execution_count": 6,
   "id": "f53ef9ab-cba5-4a22-8a6c-306bb6e30958",
   "metadata": {},
   "outputs": [
    {
     "name": "stdout",
     "output_type": "stream",
     "text": [
      "Training set: 64.0 % of the original dataset\n",
      "Validation set: 16.0 % of the original dataset\n",
      "Test set: 20.0 % of the original dataset\n"
     ]
    }
   ],
   "source": [
    "# Split original data into 80 % training data and 20 % test data\n",
    "train_features, test_features, train_labels, test_labels = split(features, labels, test_size=0.20, train_size=0.80, random_state=0)\n",
    "# Split training data into 80 % training data (64 % of original) and 20 % validation data (16 % of original)\n",
    "train_features, validation_features, train_labels, validation_labels = split(train_features, train_labels, test_size=0.20, train_size=0.80, random_state=0)\n",
    "\n",
    "train_percentage = (train_features.count()[0] / features.count()[0]).round(2) * 100\n",
    "validation_percentage = (validation_features.count()[0] / features.count()[0]).round(2) * 100\n",
    "test_percentage = (test_features.count()[0] / features.count()[0]).round(2) * 100\n",
    "\n",
    "print (f\"Training set: {train_percentage} % of the original dataset\")\n",
    "print (f\"Validation set: {validation_percentage} % of the original dataset\")\n",
    "print (f\"Test set: {test_percentage} % of the original dataset\")"
   ]
  },
  {
   "cell_type": "markdown",
   "id": "0aec5414-e2b5-4556-b611-050c0e587c55",
   "metadata": {},
   "source": [
    "### 4.2 Normalization\n",
    "\n",
    "We also normalize the model, since exploring the model we saw that many of the values differ from each other quite a lot numerically. We accomplish normalization by creating a normalized layer for the model by adapting the layer to the training dataset."
   ]
  },
  {
   "cell_type": "code",
   "execution_count": 7,
   "id": "2364660f-ba88-4212-bd20-5fc8f26b5121",
   "metadata": {},
   "outputs": [],
   "source": [
    "# Create a normalized input layer\n",
    "normalizer = layers.Normalization()\n",
    "normalizer.adapt(np.array(train_features))"
   ]
  },
  {
   "cell_type": "markdown",
   "id": "63211935-3b8e-4a1a-a443-cefa8c5eca8e",
   "metadata": {},
   "source": [
    "### 4.3 Weights\n",
    "\n",
    "We also opted to make weights for the evaluations, since ~90 % of the data is classified as healthy and only ~10 % is classified as diseased. These weights will be used when training the model. The weights are used to balance the imbalance in the data between these two diagnoses. The way how we determine how the class weights are calculated are taken from [tensorflows own page](https://www.tensorflow.org/tutorials/structured_data/imbalanced_data#class_weights)."
   ]
  },
  {
   "cell_type": "code",
   "execution_count": 8,
   "id": "cfd7e5f1-24eb-4fa7-8b07-402cf61cf167",
   "metadata": {},
   "outputs": [
    {
     "name": "stdout",
     "output_type": "stream",
     "text": [
      "Healthy amount: 90.58 %\n",
      "Diseased amount: 9.42 %\n",
      "\n",
      "Healthy weight: 0.55\n",
      "Diseased weight: 5.31\n"
     ]
    }
   ],
   "source": [
    "# Calculate how much of the original data is healthy and diseased\n",
    "healthy, diseased = np.bincount(df['HeartDiseaseorAttack'])\n",
    "total = healthy + diseased\n",
    "\n",
    "print(f\"Healthy amount: {round(100 * healthy / total, 2)} %\")\n",
    "print(f\"Diseased amount: {round(100 * diseased / total, 2)} %\\n\")\n",
    "\n",
    "# Because of the imbalance, create weights for the labels\n",
    "healthyWeight = 1 / healthy * (total / 2.0)\n",
    "diseaseWeight = 1 / diseased * (total / 2.0)\n",
    "class_weight = {0: healthyWeight, 1: diseaseWeight}\n",
    "print(f\"Healthy weight: {round(healthyWeight, 2)}\")\n",
    "print(f\"Diseased weight: {round(diseaseWeight, 2)}\")"
   ]
  },
  {
   "cell_type": "markdown",
   "id": "13a508c5-5262-4a7a-9384-0216f4c5f4f7",
   "metadata": {},
   "source": [
    "With these weights the model \"pays more attention\" to the diagnose with the bigger weight, which in this case is the weight for the diseased."
   ]
  },
  {
   "cell_type": "markdown",
   "id": "9b381258-ac86-4c98-b563-e6f7fcc00ea4",
   "metadata": {
    "tags": []
   },
   "source": [
    "## 5. Modeling\n",
    "\n",
    "After preprocessing, we created a function, which creates the model. The model is a Sequential one from tensorflows keras library.\n",
    "\n",
    "### 5.1 Options and model\n",
    "\n",
    "The function named <code>make_model</code> makes the model with one hidden layer with the amount of neurons in the parameter. We decided to only use one hidden layer for the final model, since we wanted to make the model as simple as possible. We also added a <code>Dropout</code> layer with 40 % dropout rate. The dropout layer reduces overfitting by dropping out 40 % of the hidden layers inputs for the output layer. For the hidden layer we used <code>activation = 'relu'</code> which is the most common choice of activation function in the world of deep learning. The last layer is the output layer with <code>activation = 'sigmoid'</code> which is a mathematical function for logistics.\n",
    "\n",
    "The model also compiles with an optimizer algorithm called <code>RMSprop</code> (Root Mean Squared Propagation) which maintains a moving average of the square of gradients and divides the gradient by the root of this average. For loss a <code>BinaryCrossentropy</code> algorithm is used, since this problem is binary classification (not much of a choice). Binary cross-entropy computes the cross-entropy loss between true labels and predicted labels. As for the metrics we want to know the accuracy, loss and recall of the model, these metrics calculate how often predictions match binary labels. Since we are aiming for high sensitivity, recall is important to us, since [sensitivity essentially means recall](https://en.wikipedia.org/wiki/Sensitivity_and_specificity)."
   ]
  },
  {
   "cell_type": "code",
   "execution_count": 9,
   "id": "6c00d97d-4e36-4689-8d18-c421fc89f841",
   "metadata": {},
   "outputs": [],
   "source": [
    "def make_model():    \n",
    "    model = models.Sequential([\n",
    "        normalizer,\n",
    "        layers.Dense(5, activation = 'relu', name = \"hidden\"),\n",
    "        layers.Dropout(0.4),\n",
    "        layers.Dense(1, activation = 'sigmoid', name = \"output\")\n",
    "    ])\n",
    "    \n",
    "    model.compile(\n",
    "        optimizer = optimizers.RMSprop(),\n",
    "        loss = losses.BinaryCrossentropy(),\n",
    "        metrics = [\n",
    "            metrics.BinaryAccuracy(name = 'acc'),\n",
    "            metrics.Recall(name = 'recall'), \n",
    "        ]\n",
    "    )\n",
    "    \n",
    "    return model"
   ]
  },
  {
   "cell_type": "markdown",
   "id": "14e22235-1d81-4d31-8908-9391d1002099",
   "metadata": {
    "tags": []
   },
   "source": [
    "### 5.2 Choosing the final model settings\n",
    "\n",
    "Before choosing the final model, we tested a couple of other models to determine what amount of hidden layers and neurons was fitting. Namely we tested models with one, two or three hidden layers.\n",
    "\n",
    "The following tests were made:\n",
    "\n",
    "|Hidden layers|Amount of neurons|Validation Accuracy|Validation Loss|Validation Recall|\n",
    "|-------------|-----------------|-------------------|---------------|-----------------|\n",
    "|3|10 N / 10 N / 10 N|78 %|49 %|75 %|\n",
    "|3|5 N / 5 N / 5N|70 %|54 %|85 %|\n",
    "|3|2 N / 2 N / 2 N|80 %|65 %|70 %|\n",
    "|2|10 N / 10 N|73 %|49 %|82 %|\n",
    "|2|5 N / 5 N|70 %|51 %|86 %|\n",
    "|2|2 N / 2 N|71 %|54 %|85 %|\n",
    "|1|10 N|72 %|50 %|83 %|\n",
    "|1|5 N|73 %|49 %|82 %|\n",
    "|1|2 N|78 %|55 %|74 %|\n",
    "\n",
    "Validation accuracy, validation loss and validation recall were all got from the training section during model selection process. \n",
    "\n",
    "From the table we can see that the result are very similar accross all tests. <u>We decided pick the second last one with **one hidden layer** which has **five neurons** as the final model</u>. This achieves our goal of using the most simple model available which achieves relatively good results with the validation set. The second last one also has the simplest settings (simplest model) that achieve low loss and high recall."
   ]
  },
  {
   "cell_type": "markdown",
   "id": "73053327-856c-4645-b2a9-5aace61ae8a4",
   "metadata": {},
   "source": [
    "### 5.3 Final model\n",
    "\n",
    "Below we can see the final model that we decided to go with. The model has a normalized input layer with 21 neurons, hidden layer with 5 neurons and 110 parameters and an output layer with 1 neuron. The dropout layer is after the hidden layer to dropout 40 % of the hidden layers outputs randomly, this reduces overfitting. The parameters in the hidden layer are the values that change during training to more optimally predict the correct diagnose. The amount of parameters in the hidden layer are calculated like so:\n",
    "\n",
    "    parameters = (input layer neurons * hidden layer neurons) + hidden layer neurons\n",
    "     -> 110 = (21 * 5) + 5"
   ]
  },
  {
   "cell_type": "code",
   "execution_count": 10,
   "id": "be05b0b2-456a-4587-8120-06e53dd38d77",
   "metadata": {},
   "outputs": [
    {
     "name": "stdout",
     "output_type": "stream",
     "text": [
      "Model: \"sequential\"\n",
      "_________________________________________________________________\n",
      " Layer (type)                Output Shape              Param #   \n",
      "=================================================================\n",
      " normalization (Normalizatio  (None, 21)               43        \n",
      " n)                                                              \n",
      "                                                                 \n",
      " hidden (Dense)              (None, 5)                 110       \n",
      "                                                                 \n",
      " dropout (Dropout)           (None, 5)                 0         \n",
      "                                                                 \n",
      " output (Dense)              (None, 1)                 6         \n",
      "                                                                 \n",
      "=================================================================\n",
      "Total params: 159\n",
      "Trainable params: 116\n",
      "Non-trainable params: 43\n",
      "_________________________________________________________________\n"
     ]
    }
   ],
   "source": [
    "model = make_model()\n",
    "model.summary()"
   ]
  },
  {
   "cell_type": "markdown",
   "id": "02815b06-d33d-402f-9632-a6f22565eaf8",
   "metadata": {},
   "source": [
    "## 6. Training\n",
    "\n",
    "We trained our selected model with <code>train_labels</code> (diagnoses) and <code>train_features</code> (indicators). These were passed as parameters. The training was timed with the time library. \n",
    "\n",
    "### 6.1 Epochs and batch size\n",
    "\n",
    "We tested the model with epochs ranging from 1-200 and a batch size from 32-2000. The values were adjusted based on their performance and evaluation. We noticed that low epoch values were too fluctuating and didn't give a reasonable result for every run. Low batch sizes also worsened the results quite a bit by giving too little time for the model to learn how to predict the diseased cases.\n",
    "\n",
    "For the final epochs we chose 20 epochs and a batch size of 2048. The batch size was taken from [tensorflows baseline model](https://www.tensorflow.org/tutorials/structured_data/imbalanced_data#baseline_model). We also noticed we have a lot of data, so we had space to use a big number in the batch size. A high batch size ensures that each batch has a good chance of containing some examples of the diseased instances. We learned that if the batch size was too low, the fitting would likely have no valuable examples to learn from. The original epoch value was 100, but we soon saw that the results didn't get any better after about 10 epochs."
   ]
  },
  {
   "cell_type": "code",
   "execution_count": 11,
   "id": "8361c731-2489-4b95-83b2-3e305bfc3564",
   "metadata": {},
   "outputs": [
    {
     "name": "stdout",
     "output_type": "stream",
     "text": [
      "Total elapsed time 3.17 s and 0.158 s/epoch\n"
     ]
    }
   ],
   "source": [
    "EPOCHS = 20\n",
    "BATCH_SIZE = 2048\n",
    "\n",
    "t0 = time.time()\n",
    "history = model.fit(\n",
    "    train_features,\n",
    "    train_labels,\n",
    "    epochs = EPOCHS,\n",
    "    batch_size = BATCH_SIZE,\n",
    "    class_weight = class_weight,\n",
    "    validation_data = (validation_features, validation_labels),\n",
    "    verbose = 0\n",
    ")\n",
    "t1 = time.time()\n",
    "etime = t1 - t0\n",
    "print(f'Total elapsed time {etime:.2f} s and {etime / EPOCHS:.3f} s/epoch')"
   ]
  },
  {
   "cell_type": "markdown",
   "id": "6501750f-e61f-4d44-97a5-6935f044ff96",
   "metadata": {},
   "source": [
    "With this model, epoch and batch size our model takes **~3.0 seconds** and **~0.2 seconds going for each epoch**."
   ]
  },
  {
   "cell_type": "markdown",
   "id": "fd1f49ae-1022-4f89-8883-24e6d841c3c3",
   "metadata": {},
   "source": [
    "### 6.2 Validation and overfitting\n",
    "\n",
    "To see how well the model performed and to ensure that no overfitting is happening we check the validation metrics. Here we see that the validation results are quite close to the training results, this is good since too much difference between these results means that something may have gone wrong.\n",
    "\n",
    "From the loss plot we can also see that the validation curve stays under the training curve and has a similar curvature to the training curve. If the validation curve would've gone above the training curve, it would be an indication of possible overfitting. This model seems not to be overfitting. The chance of overfitting is lowered a lot by the dropout layer in our model and the normalized input layer."
   ]
  },
  {
   "cell_type": "code",
   "execution_count": 12,
   "id": "b771be74-a12b-4b16-860a-57f068170c97",
   "metadata": {},
   "outputs": [
    {
     "name": "stdout",
     "output_type": "stream",
     "text": [
      "Accuracy: 0.74 % \t Val Accuracy: 0.73 %\n",
      "Loss: 0.52 % \t\t Val Loss: 0.49 %\n",
      "Recall: 0.76 % \t\t Val Recall: 0.82 %\n"
     ]
    }
   ],
   "source": [
    "print(f\"Accuracy: {round(history.history['acc'][-1], 2)} % \\t Val Accuracy: {round(history.history['val_acc'][-1], 2)} %\")\n",
    "print(f\"Loss: {round(history.history['loss'][-1], 2)} % \\t\\t Val Loss: {round(history.history['val_loss'][-1], 2)} %\")\n",
    "print(f\"Recall: {round(history.history['recall'][-1], 2)} % \\t\\t Val Recall: {round(history.history['val_recall'][-1], 2)} %\")"
   ]
  },
  {
   "cell_type": "code",
   "execution_count": 13,
   "id": "f865c99a-6b6b-4de7-bb1e-f06169d22c9e",
   "metadata": {},
   "outputs": [
    {
     "data": {
      "image/png": "[encoded data removed]",
      "text/plain": [
       "<Figure size 1440x720 with 1 Axes>"
      ]
     },
     "metadata": {
      "needs_background": "light"
     },
     "output_type": "display_data"
    }
   ],
   "source": [
    "def plot_loss(history):\n",
    "    plt.plot(history.epoch, history.history['loss'])\n",
    "    plt.plot(history.epoch, history.history['val_loss'], linestyle=\"--\")\n",
    "    plt.xlabel('Epoch')\n",
    "    plt.ylabel('Loss')\n",
    "    plt.grid()\n",
    "\n",
    "plot_loss(history)"
   ]
  },
  {
   "cell_type": "markdown",
   "id": "c042a705-6922-4ad9-af15-5832b993e76c",
   "metadata": {},
   "source": [
    "## 7. Performance and evaluation\n",
    "\n",
    "In this section we are displaying the loss, accuracy and recall values on each epoch with plots for both training and validation.\n",
    "\n",
    "### 7.1 Evaluating plots in training and validation\n",
    "\n",
    "Validating the model outputs are important to ensure the model's reliability. During training we use a huge amount of training data. The main aim of validating the model in the last section is that it provides an opportunity for us to improve the settings. In this section we look at all the metrics more in-depth, since in the training section we looked only at the loss plot to determine is the model overfitting."
   ]
  },
  {
   "cell_type": "code",
   "execution_count": 14,
   "id": "8a748222-66a8-40ef-8a4f-fc495861c977",
   "metadata": {},
   "outputs": [
    {
     "data": {
      "image/png": "[encoded data removed]",
      "text/plain": [
       "<Figure size 1440x720 with 6 Axes>"
      ]
     },
     "metadata": {
      "needs_background": "light"
     },
     "output_type": "display_data"
    }
   ],
   "source": [
    "epochs = history.epoch\n",
    "loss = history.history['loss']\n",
    "acc = history.history['acc']\n",
    "recall = history.history['recall']\n",
    "val_loss = history.history['val_loss']\n",
    "val_acc = history.history['val_acc']\n",
    "val_recall = history.history['val_recall']\n",
    "\n",
    "# Plot all of the metrics\n",
    "fig, axs = plt.subplots(2, 3)\n",
    "fig.subplots_adjust(hspace=0.3, wspace=0.2)\n",
    "axs[0, 0].plot(epochs, loss)\n",
    "axs[0, 0].set_title('Train Loss')\n",
    "axs[0, 0].grid()\n",
    "axs[0, 1].plot(epochs, acc, 'tab:orange')\n",
    "axs[0, 1].set_title('Train Accuracy')\n",
    "axs[0, 1].grid()\n",
    "axs[0, 2].plot(epochs, recall, 'tab:purple')\n",
    "axs[0, 2].set_title('Train recall')\n",
    "axs[0, 2].grid()\n",
    "axs[1, 0].plot(epochs, val_loss, 'tab:green')\n",
    "axs[1, 0].set_title('Validation loss')\n",
    "axs[1, 0].grid()\n",
    "axs[1, 1].plot(epochs, val_acc, 'tab:red')\n",
    "axs[1, 1].set_title('Validation accuracy')\n",
    "axs[1, 1].grid()\n",
    "axs[1, 2].plot(epochs, val_recall, 'tab:pink')\n",
    "axs[1, 2].set_title('Validation recall')\n",
    "axs[1, 2].grid()\n",
    "\n",
    "for ax in axs.flat:\n",
    "    ax.set(xlabel='Epoch', ylabel='Value')"
   ]
  },
  {
   "cell_type": "markdown",
   "id": "b42b6bb1-7a5f-49e9-87c6-346800bcc081",
   "metadata": {},
   "source": [
    "We can see that the loss value changes significantly during the first ten epochs, and only mildly after the tenth one. The lower the models loss is, the better the model is in predicting. Loss is defined as the difference between the predicted value by the model and the true value. Loss was also the main metric we looked upon in the training section and was the metric for evaluating is the model overfitting or not. While the loss is somewhat low and descending, the value is still quite high sitting roughly at 50 %. The perfect value for loss would be at 0 %, but we accepted this loss value as we got a very healthy accuracy and recall values.\n",
    "\n",
    "Accuracy of the model starts at around ~63 % for both training and validation. Both of the metrics rise up to ~73 % on around the tenth epoch. This percentage is not perfect, but at least acceptable. Accuracy could be higher, but we would suffer a lot of losses in recall, which is not what we want. Recall was the most important metric that we wanted to get as high as possible (aiming to high sensitivity without losing too much specificity) in this project.\n",
    "\n",
    "Recall starts to rise from 60 - 70 % to the highest point of 77 - 83 % at the tenth epoch. The percentages don't get lower or get higher too much and settle down to to the percentages at the tenth epoch which is really good and what we were aiming for in this project. At these result we were really happy, since we tried many other settings to no avail when trying to get higher recall.\n",
    "\n",
    "These plots can be explained by the things that happen in the neural network during training. For each epoch the accuracy and recall rise and the loss gets lower since the parameters in the neurons get changed to more optimal values to predict the outcome. In the training section we defined the <code>BATCH_SIZE</code>-variable, which determines how many instances will be checked before changing the parameters in the neurons. The lower the batch size the more parameter changes will occur, but also the runtime gets a lot longer. A lower batch size also means the model doesn't have enough samples to learn different cases from (healthy / diseased cases). An even lower amount of epochs would've sufficed (around 10 epochs), but we wanted to be more certain of the results.\n",
    "\n",
    "> \"The model is fit using a larger than default batch size of 2048, this is important to ensure that each batch has a decent chance of containing a few positive samples.\n",
    "> If the batch size was too small, they would likely have no fraudulent transactions to learn from.\"\n",
    ">\n",
    "> [Tensorflow, Classification on imbalanced data](https://www.tensorflow.org/tutorials/structured_data/imbalanced_data#baseline_model)\n",
    "\n",
    "The smooth and gradual increase of accuracy and recall as well as the decrese of loss is a very good sign that the model is performing well. Below we can see the final values for the metrics with the most important one being recall in this project ."
   ]
  },
  {
   "cell_type": "code",
   "execution_count": 15,
   "id": "c9f8a048-2486-4423-84f6-0473da25a747",
   "metadata": {},
   "outputs": [
    {
     "name": "stdout",
     "output_type": "stream",
     "text": [
      "Training loss = 0.520\n",
      "Training accuracy = 0.741\n",
      "Training recall = 0.764\n"
     ]
    }
   ],
   "source": [
    "print(f'Training loss = {loss[-1]:.3f}')\n",
    "print(f'Training accuracy = {acc[-1]:.3f}')\n",
    "print(f'Training recall = {recall[-1]:.3f}')"
   ]
  },
  {
   "cell_type": "code",
   "execution_count": 16,
   "id": "cd4923b1-8688-4a9c-bd35-fa2423e2a258",
   "metadata": {},
   "outputs": [
    {
     "name": "stdout",
     "output_type": "stream",
     "text": [
      "Validation loss = 0.492\n",
      "Validation accuracy = 0.725\n",
      "Validation recall = 0.825\n"
     ]
    }
   ],
   "source": [
    "print(f'Validation loss = {val_loss[-1]:.3f}')\n",
    "print(f'Validation accuracy = {val_acc[-1]:.3f}')\n",
    "print(f'Validation recall = {val_recall[-1]:.3f}')"
   ]
  },
  {
   "cell_type": "markdown",
   "id": "974ed24a-043c-48b1-885a-966746e6b218",
   "metadata": {
    "tags": []
   },
   "source": [
    "### 7.2 Final performance\n",
    "\n",
    "In this section we use the test set (20 % of the orignal set) on the trained model and evaluate how well the model really performed. We use a test set, which the model hasn't \"seen\" before and tries to evaluate the test sets outcome by the things the model has learned during training. This is why we want the trained model to be as general as possible, because if the model has learned the specific intricacies of the training features, it wont perform as well on features it hasn't seen before.\n",
    "\n",
    "As the final metrics, the trained model evaluated the test datasets outcomes with:\n",
    "- 49.2 % loss\n",
    "- 72.4 % accuracy\n",
    "- **83.1 % recall (sensitivity)**"
   ]
  },
  {
   "cell_type": "code",
   "execution_count": 17,
   "id": "ba84bca6-365d-4aca-bc23-975dc9c9464f",
   "metadata": {},
   "outputs": [
    {
     "name": "stdout",
     "output_type": "stream",
     "text": [
      "Test loss = 0.492\n",
      "Test accuracy = 0.724\n",
      "Test recall = 0.831\n"
     ]
    }
   ],
   "source": [
    "# Evaluate the trained model with test dataset\n",
    "test_loss, test_accuracy, test_recall = model.evaluate(test_features, test_labels, verbose = 0)\n",
    "print(f'Test loss = {test_loss:.3f}')\n",
    "print(f'Test accuracy = {test_accuracy:.3f}')\n",
    "print(f'Test recall = {test_recall:.3f}')"
   ]
  },
  {
   "cell_type": "markdown",
   "id": "26d25755-68dc-4b01-9e46-a5967e3371a6",
   "metadata": {},
   "source": [
    "We created a confusion matrix and a classification report, that display all of the final performance results of the model. The <code>THRESHOLD</code>-variable determines what is the cutoff point when predicting is the label classified as healthy or diseased. We can set the threshold value at 0.4 to more sensitively predict that the label is diseased. Since 0 is considered healthy and 1 is considered diseased, the cutoff point was set as 0.5. The conditional operation <code>(predictions >= THRESHOLD)</code> returns true if the prediction is equal to or higher than 0.5 (meaning diseased) and return false if the prediction is lower than 0.5 (meaning healthy). This true or false statement is then multiplied by one, which converts all [true values to 1 and false values to 0](https://stackoverflow.com/questions/2764017/is-false-0-and-true-1-an-implementation-detail-or-is-it-guaranteed-by-the) so that the prediction is always either 1 or 0. No other answer is accepted, because this is a binary classification problem."
   ]
  },
  {
   "cell_type": "code",
   "execution_count": 18,
   "id": "a88bb771-ef33-4ec2-94f6-2c765025536a",
   "metadata": {},
   "outputs": [
    {
     "name": "stdout",
     "output_type": "stream",
     "text": [
      "              Confusion matrix      \n",
      "                 Prediction         \n",
      "Diagnose  Healthy   Disease      SUM\n",
      "Healthy     32789     13175    45964\n",
      "Disease       806      3966     4772\n",
      "SUM         33595     17141    50736\n"
     ]
    }
   ],
   "source": [
    "THRESHOLD = 0.5\n",
    "\n",
    "# Predict the outcomes of the test dataset\n",
    "predictions = model.predict(test_features)\n",
    "pred_labels = 1.0 * (predictions >= THRESHOLD)\n",
    "cm = confusion_matrix(test_labels, pred_labels)\n",
    "\n",
    "# Show the outcomes\n",
    "tn, fp, fn, tp = confusion_matrix(test_labels, pred_labels).ravel()\n",
    "print(f'              Confusion matrix      ')\n",
    "print(f'                 Prediction         ')\n",
    "print(f'Diagnose  Healthy   Disease      SUM')\n",
    "print(f'Healthy  {tn:8d}  {fp:8d} {tn+fp:8d}')\n",
    "print(f'Disease  {fn:8d}  {tp:8d} {fn+tp:8d}')\n",
    "print(f'SUM      {tn+fn:8d}  {fp+tp:8d} {tn+fp+fn+tp:8d}')"
   ]
  },
  {
   "cell_type": "markdown",
   "id": "f64291b5-c7eb-4a5e-b3f3-9fe2c220aa54",
   "metadata": {},
   "source": [
    "We also made a graph of the confusion matrix for clarity."
   ]
  },
  {
   "cell_type": "code",
   "execution_count": 19,
   "id": "7a91e05f-b783-4624-8e8a-8ebb43866f1b",
   "metadata": {},
   "outputs": [
    {
     "data": {
      "text/plain": [
       "<AxesSubplot:>"
      ]
     },
     "execution_count": 19,
     "metadata": {},
     "output_type": "execute_result"
    },
    {
     "data": {
      "image/png": "[encoded data removed]",
      "text/plain": [
       "<Figure size 1440x720 with 2 Axes>"
      ]
     },
     "metadata": {
      "needs_background": "light"
     },
     "output_type": "display_data"
    }
   ],
   "source": [
    "group_names = [\"True Neg\",\"False Pos\",\"False Neg\",\"True Pos\"]\n",
    "group_counts = [\"{0:0.0f}\".format(value) for value in cm.flatten()]\n",
    "group_percentages = [\"{0:.2%}\".format(value) for value in cm.flatten()/np.sum(cm)]\n",
    "labels = [f\"{v1}\\n{v2}\\n{v3}\" for v1, v2, v3 in zip(group_names,group_counts,group_percentages)]\n",
    "\n",
    "# Show the outcomes graphically\n",
    "labels = np.asarray(labels).reshape(2,2)\n",
    "sns.heatmap(cm, annot=labels, fmt=\"\", cmap=\"Reds\")"
   ]
  },
  {
   "cell_type": "markdown",
   "id": "76cb99aa-d7d1-4980-ba2a-ae878ece16f5",
   "metadata": {},
   "source": [
    "The percetage of diseased instances in the test set is 4772 (diseased) / 50 736 (total) * 100 = 9.4 %. This is about the same amount as in the original dataset (a little less).\n",
    "\n",
    "From the graph of the confusion matrix, we can see that out of the 9.4 % diseased population ~7.8 % were found diseased (which achieves a high sensitivity for us). Only ~1.6 % of the diseased were missed. This is the most important thing to look at and essentially it means that out of the 9.4 % diseased instances almost 8 % were found correctly (meaning they really had a disease). This is what we wanted. Even though we sacrifice quite much by misclassifying ~26 % of healthy instances as diseased, we still find the truly diseased instances quite well. It is much more important to find the diseased individuals rather than misclassifying healthy ones. Another reason this is important is because we can achieve quite high accuracy (about 90 %) by just classifying everyone as healthy, since only a mere 9.4 % of the instances have the disease. This is of course incorrect, since we are trying to find the instances which do have a disease.\n",
    "\n",
    "As numbers, out of 4772 diseased instances in the test set, 3966 were classified diseased correctly and 806 incorrectly. Out of 45 964 healthy individuals, 32 789 were classified as healthy correctly and 13 175 incorrectly.\n",
    "\n",
    "Around ~65 % were classified as healthy correctly, which is also good."
   ]
  },
  {
   "cell_type": "code",
   "execution_count": 20,
   "id": "18aa42ad-5e18-4f3e-81cd-fbb86a0c2bff",
   "metadata": {},
   "outputs": [
    {
     "name": "stdout",
     "output_type": "stream",
     "text": [
      "              precision    recall  f1-score   support\n",
      "\n",
      "     Healthy       0.98      0.71      0.82     45964\n",
      "     Disease       0.23      0.83      0.36      4772\n",
      "\n",
      "    accuracy                           0.72     50736\n",
      "   macro avg       0.60      0.77      0.59     50736\n",
      "weighted avg       0.91      0.72      0.78     50736\n",
      "\n"
     ]
    }
   ],
   "source": [
    "# Classify the outcomes\n",
    "cr = classification_report(test_labels, pred_labels, target_names = ['Healthy', 'Disease'])\n",
    "print(cr)"
   ]
  },
  {
   "cell_type": "code",
   "execution_count": 21,
   "id": "36aa6109-39ef-43e6-88f3-a34b75d0c1f2",
   "metadata": {},
   "outputs": [
    {
     "name": "stdout",
     "output_type": "stream",
     "text": [
      "Sensitivity = 0.83 %\n",
      "Specificity = 0.71 %\n"
     ]
    }
   ],
   "source": [
    "# Print the most important metrics of the report\n",
    "print(f'Sensitivity = {tp/(tp+fn):.2f} %')\n",
    "print(f'Specificity = {tn/(tn+fp):.2f} %')"
   ]
  },
  {
   "cell_type": "markdown",
   "id": "6e76fb7b-9615-4617-8435-55aa1db8704e",
   "metadata": {},
   "source": [
    "The main objective in this model was to achieve a <u>high sensitivity rate without losing too much specificity</u>. With the trained model and test set we got a **sensitivity rate of 83 %** and a **specifity rate of 71 %**.\n",
    "\n",
    "The reason we believe why we got such a good sensitivity is because of weights. The model pays way more attention to the diseased classification than to the healthy classification."
   ]
  },
  {
   "cell_type": "markdown",
   "id": "317f9d8f-57b0-4ccb-8b16-098b773c2fce",
   "metadata": {
    "tags": []
   },
   "source": [
    "# 8. Discussion and conclusions\n",
    "\n",
    "We tested different settings to find the best, simplest and fastest way to get reasonably good results with the model. We started by changing the amount of neurons and hidden layers. Results didn't improve much by adding hidden layers so we decided to only use one hidden layer and tried to find the smallest amount for neurons. We tested different models where the range of neurons varied from 2 to 10 and got almost the same results, except with 2 neurons where we got errors regarding dividing by zero in additional to slightly lower metrics. So we decided to use five neurons which seemed like the right amount.\n",
    "\n",
    "We continued by changing epochs and batch size. With higher epoch values (e.g. 100 epochs), we didn't get any better results and the runtime was much longer than with lower epoch values. That is why we decided to try lower epoch values and with 20 epochs, we got really good results and the runtime was faster. We also tried changing batch size but we came to a conclusion that 2048 was the best. With lower batch size values the model performed worse.\n",
    "\n",
    "Lastly, we set the <code>THRESHOLD</code>-value to 0.5 so predictions were distributed to healthy and diseased evenly. We also tried with values ranging from 0.2 to 0.7, but the end results weren't so good since they weren't so realistic.\n",
    "\n",
    "So we got the best model with the following settings:\n",
    "\n",
    "|Setting|Value|\n",
    "|--|--|\n",
    "|Neurons|5|\n",
    "|Hidden layers|1|\n",
    "|Dropout|40 %|\n",
    "|Epochs|20|\n",
    "|Batch size|2048| \n",
    "|Diseased weight|5.31|\n",
    "|Healthy weight|0.55|\n",
    "|Threshold|0.5|\n",
    "\n",
    "The model achieved a moderately good performance with our settings. The final performance results that the model outputted when predicting the outcomes of the test dataset with these settings were as follows:\n",
    "\n",
    "|Metric|Value|\n",
    "|--|--|\n",
    "|**Sensitivity / Recall**|**83 %**|\n",
    "|Specificity|71 %|\n",
    "|Accuracy|72 %|\n",
    "|Loss|49 %|\n",
    "|Execution time|3 s|\n",
    "\n",
    "### 8.1 Main observations and learning points\n",
    "\n",
    "We observed that for this dataset a model consisting of one hidden layer with five neurons was enough. Increasing the batch size from the default size of 32 to the size of 2048 was mandatory to achieving really good results, since it gave the model the opportunity to learn. For epochs, 20 was the most effective one relative to its runtime and the fact that after the tenth epoch not much changed. That is to say we learned that neural networks don't need to be overly large and complex to achieve relatively good results. We learned to work with datasets using Python and various libraries, such as Pandas, Tensorflow, Seaborn and Scikit-learn.\n",
    "\n",
    "### 8.2 Model improvements\n",
    "\n",
    "We spent a lot of time tweaking the settings to find the best ones that achieve realible results for the aim of the report. The aim of the report in this case was to find the best solution for high sensitivity without losing too much specificity. The model of course can be improved with better settings, we chose to use a more simpler model (which was also an aim of this report) to achieve this goal. This meant that we had to sacrifice a little bit of sensitivity and specificity. The model can be a little more complex, which would amount to a better result, but not too much better. Changing the way normalization is done, increasing or decreasing dropout or using scaling could improve the results also. Different batch size could also be a factor.\n",
    "\n",
    "The model can be tweaked in many ways depending on what you want to accomplish with it. This is the reason why for example our models accuracy is not so high like it could be. Our loss is also pretty high, which could've been lower with different modifications to the model.\n"
   ]
  }
 ],
 "metadata": {
  "kernelspec": {
   "display_name": "Python 3 (ipykernel)",
   "language": "python",
   "name": "python3"
  },
  "language_info": {
   "codemirror_mode": {
    "name": "ipython",
    "version": 3
   },
   "file_extension": ".py",
   "mimetype": "text/x-python",
   "name": "python",
   "nbconvert_exporter": "python",
   "pygments_lexer": "ipython3",
   "version": "3.9.7"
  }
 },
 "nbformat": 4,
 "nbformat_minor": 5
}
